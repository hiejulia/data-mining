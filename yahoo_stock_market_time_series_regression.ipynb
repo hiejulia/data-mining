{
  "nbformat": 4,
  "nbformat_minor": 0,
  "metadata": {
    "kernelspec": {
      "display_name": "Python 3",
      "language": "python",
      "name": "python3"
    },
    "language_info": {
      "codemirror_mode": {
        "name": "ipython",
        "version": 3
      },
      "file_extension": ".py",
      "mimetype": "text/x-python",
      "name": "python",
      "nbconvert_exporter": "python",
      "pygments_lexer": "ipython3",
      "version": "3.7.6"
    },
    "nav_menu": {
      "height": "279px",
      "width": "309px"
    },
    "toc": {
      "nav_menu": {},
      "number_sections": true,
      "sideBar": true,
      "skip_h1_title": false,
      "toc_cell": false,
      "toc_position": {},
      "toc_section_display": "block",
      "toc_window_display": false
    },
    "colab": {
      "name": "02_end_to_end_machine_learning_project.ipynb",
      "provenance": []
    }
  },
  "cells": [
    {
      "cell_type": "code",
      "metadata": {
        "id": "kHcAtlAMDS7v",
        "colab_type": "code",
        "colab": {
          "base_uri": "https://localhost:8080/",
          "height": 34
        },
        "outputId": "f43c04f4-0c87-4146-e263-6ec7fb3f1bb9"
      },
      "source": [
        "# Python ≥3.5 is required\n",
        "import sys\n",
        "assert sys.version_info >= (3, 5)\n",
        "\n",
        "# Scikit-Learn ≥0.20 is required\n",
        "import sklearn\n",
        "assert sklearn.__version__ >= \"0.20\"\n",
        "\n",
        "# Common imports\n",
        "import numpy as np\n",
        "import os\n",
        "\n",
        "# To plot pretty figures\n",
        "%matplotlib inline\n",
        "import matplotlib as mpl\n",
        "import matplotlib.pyplot as plt\n",
        "mpl.rc('axes', labelsize=14)\n",
        "mpl.rc('xtick', labelsize=12)\n",
        "mpl.rc('ytick', labelsize=12)\n",
        "\n",
        "# Where to save the figures\n",
        "PROJECT_ROOT_DIR = \".\"\n",
        "CHAPTER_ID = \"end_to_end_project\"\n",
        "IMAGES_PATH = os.path.join(PROJECT_ROOT_DIR, \"images\", CHAPTER_ID)\n",
        "os.makedirs(IMAGES_PATH, exist_ok=True)\n",
        "\n",
        "def save_fig(fig_id, tight_layout=True, fig_extension=\"png\", resolution=300):\n",
        "    path = os.path.join(IMAGES_PATH, fig_id + \".\" + fig_extension)\n",
        "    print(\"Saving figure\", fig_id)\n",
        "    if tight_layout:\n",
        "        plt.tight_layout()\n",
        "    plt.savefig(path, format=fig_extension, dpi=resolution)\n",
        "\n",
        "# Ignore useless warnings (see SciPy issue #5998)\n",
        "import warnings\n",
        "warnings.filterwarnings(action=\"ignore\", message=\"^internal gelsd\")\n",
        "\n",
        "print(\"OK\")"
      ],
      "execution_count": 2,
      "outputs": [
        {
          "output_type": "stream",
          "text": [
            "OK\n"
          ],
          "name": "stdout"
        }
      ]
    },
    {
      "cell_type": "code",
      "metadata": {
        "id": "CfuZMPlIDwya",
        "colab_type": "code",
        "colab": {
          "base_uri": "https://localhost:8080/",
          "height": 221
        },
        "outputId": "040570ee-a1d8-4462-a02c-e0f64e5a890d"
      },
      "source": [
        "!pip install pandas_datareader "
      ],
      "execution_count": 3,
      "outputs": [
        {
          "output_type": "stream",
          "text": [
            "Requirement already satisfied: pandas_datareader in /usr/local/lib/python3.6/dist-packages (0.8.1)\n",
            "Requirement already satisfied: requests>=2.3.0 in /usr/local/lib/python3.6/dist-packages (from pandas_datareader) (2.23.0)\n",
            "Requirement already satisfied: lxml in /usr/local/lib/python3.6/dist-packages (from pandas_datareader) (4.2.6)\n",
            "Requirement already satisfied: pandas>=0.21 in /usr/local/lib/python3.6/dist-packages (from pandas_datareader) (1.0.5)\n",
            "Requirement already satisfied: urllib3!=1.25.0,!=1.25.1,<1.26,>=1.21.1 in /usr/local/lib/python3.6/dist-packages (from requests>=2.3.0->pandas_datareader) (1.24.3)\n",
            "Requirement already satisfied: idna<3,>=2.5 in /usr/local/lib/python3.6/dist-packages (from requests>=2.3.0->pandas_datareader) (2.10)\n",
            "Requirement already satisfied: certifi>=2017.4.17 in /usr/local/lib/python3.6/dist-packages (from requests>=2.3.0->pandas_datareader) (2020.6.20)\n",
            "Requirement already satisfied: chardet<4,>=3.0.2 in /usr/local/lib/python3.6/dist-packages (from requests>=2.3.0->pandas_datareader) (3.0.4)\n",
            "Requirement already satisfied: pytz>=2017.2 in /usr/local/lib/python3.6/dist-packages (from pandas>=0.21->pandas_datareader) (2018.9)\n",
            "Requirement already satisfied: numpy>=1.13.3 in /usr/local/lib/python3.6/dist-packages (from pandas>=0.21->pandas_datareader) (1.18.5)\n",
            "Requirement already satisfied: python-dateutil>=2.6.1 in /usr/local/lib/python3.6/dist-packages (from pandas>=0.21->pandas_datareader) (2.8.1)\n",
            "Requirement already satisfied: six>=1.5 in /usr/local/lib/python3.6/dist-packages (from python-dateutil>=2.6.1->pandas>=0.21->pandas_datareader) (1.15.0)\n"
          ],
          "name": "stdout"
        }
      ]
    },
    {
      "cell_type": "code",
      "metadata": {
        "id": "JY_cqiHsENPi",
        "colab_type": "code",
        "colab": {
          "base_uri": "https://localhost:8080/",
          "height": 51
        },
        "outputId": "06c20127-2a34-4f88-ba4d-88e032768c1d"
      },
      "source": [
        "import pandas as pd \n",
        "from pandas_datareader import data, wb \n",
        "import matplotlib.pyplot as plt "
      ],
      "execution_count": 4,
      "outputs": [
        {
          "output_type": "stream",
          "text": [
            "/usr/local/lib/python3.6/dist-packages/pandas_datareader/compat/__init__.py:7: FutureWarning: pandas.util.testing is deprecated. Use the functions in the public API at pandas.testing instead.\n",
            "  from pandas.util.testing import assert_frame_equal\n"
          ],
          "name": "stderr"
        }
      ]
    },
    {
      "cell_type": "code",
      "metadata": {
        "id": "sQJgWjPVEQxM",
        "colab_type": "code",
        "colab": {
          "base_uri": "https://localhost:8080/",
          "height": 34
        },
        "outputId": "281fd12c-99ce-4426-d3ec-e39bcd37b275"
      },
      "source": [
        "%matplotlib inline \n",
        "pd.set_option('display.max_colwidth', 200) \n",
        "print(\"ok\")"
      ],
      "execution_count": 6,
      "outputs": [
        {
          "output_type": "stream",
          "text": [
            "ok\n"
          ],
          "name": "stdout"
        }
      ]
    },
    {
      "cell_type": "code",
      "metadata": {
        "id": "Pgkz7gkvETmv",
        "colab_type": "code",
        "colab": {
          "base_uri": "https://localhost:8080/",
          "height": 34
        },
        "outputId": "4c88d727-43fa-4840-9347-0ff4a365c6b6"
      },
      "source": [
        "import pandas_datareader as pdr \n",
        " \n",
        "start_date = pd.to_datetime('2010-01-01') \n",
        "stop_date = pd.to_datetime('2020-09-01') \n",
        " \n",
        "spy = pdr.data.get_data_yahoo('SPY', start_date, stop_date) \n",
        "print(\"ok\")"
      ],
      "execution_count": 10,
      "outputs": [
        {
          "output_type": "stream",
          "text": [
            "ok\n"
          ],
          "name": "stdout"
        }
      ]
    },
    {
      "cell_type": "code",
      "metadata": {
        "id": "_BDZLWJDElRK",
        "colab_type": "code",
        "colab": {
          "base_uri": "https://localhost:8080/",
          "height": 593
        },
        "outputId": "df85bb87-a96a-4f42-e51b-cad08aac7a05"
      },
      "source": [
        "spy_c = spy['Close'] \n",
        " \n",
        "fig, ax = plt.subplots(figsize=(15,10)) \n",
        "spy_c.plot(color='k') \n",
        "plt.title(\"SPY\", fontsize=20); "
      ],
      "execution_count": 11,
      "outputs": [
        {
          "output_type": "display_data",
          "data": {
            "image/png": "[encoded data removed]",
            "text/plain": [
              "<Figure size 1080x720 with 1 Axes>"
            ]
          },
          "metadata": {
            "tags": [],
            "needs_background": "light"
          }
        }
      ]
    },
    {
      "cell_type": "code",
      "metadata": {
        "id": "H4TUrFiaE35y",
        "colab_type": "code",
        "colab": {
          "base_uri": "https://localhost:8080/",
          "height": 593
        },
        "outputId": "f45f6a5b-abdb-4d4e-f551-deda0953684e"
      },
      "source": [
        "spy_c = spy['Open'] \n",
        " \n",
        "fig, ax = plt.subplots(figsize=(15,10)) \n",
        "spy_c.plot(color='k') \n",
        "plt.title(\"SPY\", fontsize=20); "
      ],
      "execution_count": 12,
      "outputs": [
        {
          "output_type": "display_data",
          "data": {
            "image/png": "[encoded data removed]",
            "text/plain": [
              "<Figure size 1080x720 with 1 Axes>"
            ]
          },
          "metadata": {
            "tags": [],
            "needs_background": "light"
          }
        }
      ]
    },
    {
      "cell_type": "markdown",
      "metadata": {
        "id": "dZjB22T7E7hw",
        "colab_type": "text"
      },
      "source": [
        "Analysis of data "
      ]
    },
    {
      "cell_type": "code",
      "metadata": {
        "id": "G3ecp8nYE8_Z",
        "colab_type": "code",
        "colab": {
          "base_uri": "https://localhost:8080/",
          "height": 238
        },
        "outputId": "9900f58f-f86f-4a52-a60a-d79f3758638f"
      },
      "source": [
        "spy['Daily Change'] = pd.Series(spy['Close'] - spy['Open']) \n",
        "spy['Daily Change'] "
      ],
      "execution_count": 16,
      "outputs": [
        {
          "output_type": "execute_result",
          "data": {
            "text/plain": [
              "Date\n",
              "2010-01-04    0.959999\n",
              "2010-01-05    0.369995\n",
              "2010-01-06    0.190002\n",
              "2010-01-07    0.690002\n",
              "2010-01-08    0.680000\n",
              "                ...   \n",
              "2020-08-26    2.809998\n",
              "2020-08-27   -0.180023\n",
              "2020-08-28    1.139984\n",
              "2020-08-31   -1.040009\n",
              "2020-09-01    2.390015\n",
              "Name: Daily Change, Length: 2685, dtype: float64"
            ]
          },
          "metadata": {
            "tags": []
          },
          "execution_count": 16
        }
      ]
    },
    {
      "cell_type": "code",
      "metadata": {
        "id": "s4juYpOeGdqU",
        "colab_type": "code",
        "colab": {
          "base_uri": "https://localhost:8080/",
          "height": 34
        },
        "outputId": "6b8adffb-64b6-4e1e-c9ac-8059bf68fb7a"
      },
      "source": [
        " spy[spy['Daily Change']<0]['Daily Change'].mean() \n",
        " "
      ],
      "execution_count": 19,
      "outputs": [
        {
          "output_type": "execute_result",
          "data": {
            "text/plain": [
              "-1.126566747475786"
            ]
          },
          "metadata": {
            "tags": []
          },
          "execution_count": 19
        }
      ]
    },
    {
      "cell_type": "code",
      "metadata": {
        "id": "-vzJa5IjGlJ0",
        "colab_type": "code",
        "colab": {
          "base_uri": "https://localhost:8080/",
          "height": 238
        },
        "outputId": "b294cb0c-010a-4f68-ad62-ae7be5f4047b"
      },
      "source": [
        "# Daily return \n",
        "daily_rtn = ((spy['Close'] - spy['Close'].shift(1))/spy['Close'].shift(1))*100 \n",
        " \n",
        "id_rtn = ((spy['Close'] - spy['Open'])/spy['Open'])*100 \n",
        "  \n",
        "on_rtn = ((spy['Open'] - spy['Close'].shift(1))/spy['Close'].shift(1))*100 \n",
        "\n",
        "daily_rtn "
      ],
      "execution_count": 21,
      "outputs": [
        {
          "output_type": "execute_result",
          "data": {
            "text/plain": [
              "Date\n",
              "2010-01-04         NaN\n",
              "2010-01-05    0.264710\n",
              "2010-01-06    0.070406\n",
              "2010-01-07    0.422129\n",
              "2010-01-08    0.332776\n",
              "                ...   \n",
              "2020-08-26    1.002561\n",
              "2020-08-27    0.218655\n",
              "2020-08-28    0.645939\n",
              "2020-08-31   -0.362254\n",
              "2020-09-01    0.941859\n",
              "Name: Close, Length: 2685, dtype: float64"
            ]
          },
          "metadata": {
            "tags": []
          },
          "execution_count": 21
        }
      ]
    },
    {
      "cell_type": "code",
      "metadata": {
        "id": "8fA8ykcRHG8G",
        "colab_type": "code",
        "colab": {
          "base_uri": "https://localhost:8080/",
          "height": 130
        },
        "outputId": "93b93096-7e09-444f-8b04-5fffd1406bb1"
      },
      "source": [
        "def get_stats(s, n=252): \n",
        "    s = s.dropna() \n",
        "    wins = len(s[s>0]) \n",
        "    losses = len(s[s<0]) \n",
        "    evens = len(s[s==0]) \n",
        "    mean_w = round(s[s>0].mean(), 3) \n",
        "    mean_l = round(s[s<0].mean(), 3) \n",
        "    win_r = round(wins/losses, 3) \n",
        "    mean_trd = round(s.mean(), 3) \n",
        "    sd = round(np.std(s), 3) \n",
        "    max_l = round(s.min(), 3) \n",
        "    max_w = round(s.max(), 3) \n",
        "    sharpe_r = round((s.mean()/np.std(s))*np.sqrt(n), 4) \n",
        "    cnt = len(s) \n",
        "    print('Trades:', cnt,\\ \n",
        "          '\\nWins:', wins,\\ \n",
        "          '\\nLosses:', losses,\\ \n",
        "          '\\nBreakeven:', evens,\\ \n",
        "          '\\nWin/Loss Ratio', win_r,\\ \n",
        "          '\\nMean Win:', mean_w,\\ \n",
        "          '\\nMean Loss:', mean_l,\\ \n",
        "          '\\nMean', mean_trd,\\ \n",
        "          '\\nStd Dev:', sd,\\ \n",
        "          '\\nMax Loss:', max_l,\\ \n",
        "          '\\nMax Win:', max_w,\\ \n",
        "          '\\nSharpe Ratio:', sharpe_r) "
      ],
      "execution_count": 22,
      "outputs": [
        {
          "output_type": "error",
          "ename": "SyntaxError",
          "evalue": "ignored",
          "traceback": [
            "\u001b[0;36m  File \u001b[0;32m\"<ipython-input-22-61d845d0b5e5>\"\u001b[0;36m, line \u001b[0;32m15\u001b[0m\n\u001b[0;31m    print('Trades:', cnt,\\\u001b[0m\n\u001b[0m                           ^\u001b[0m\n\u001b[0;31mSyntaxError\u001b[0m\u001b[0;31m:\u001b[0m unexpected character after line continuation character\n"
          ]
        }
      ]
    },
    {
      "cell_type": "code",
      "metadata": {
        "id": "ISaD-ANAHLJf",
        "colab_type": "code",
        "colab": {}
      },
      "source": [
        "get_stats(daily_rtn) "
      ],
      "execution_count": null,
      "outputs": []
    },
    {
      "cell_type": "code",
      "metadata": {
        "id": "oAIEeMZMHe6x",
        "colab_type": "code",
        "colab": {
          "base_uri": "https://localhost:8080/",
          "height": 610
        },
        "outputId": "db127474-6599-452a-a9b9-7afc12b66857"
      },
      "source": [
        "start_date = pd.to_datetime('2000-01-01') \n",
        "stop_date = pd.to_datetime('2018-12-01') \n",
        " \n",
        "sp = pdr.data.get_data_yahoo('SPY', start_date, stop_date) \n",
        "\n",
        "fig, ax = plt.subplots(figsize=(15,10)) \n",
        "sp['Close'].plot(color='k') \n",
        "plt.title(\"SPY\", fontsize=20) "
      ],
      "execution_count": 24,
      "outputs": [
        {
          "output_type": "execute_result",
          "data": {
            "text/plain": [
              "Text(0.5, 1.0, 'SPY')"
            ]
          },
          "metadata": {
            "tags": []
          },
          "execution_count": 24
        },
        {
          "output_type": "display_data",
          "data": {
            "image/png": "[encoded data removed]",
            "text/plain": [
              "<Figure size 1080x720 with 1 Axes>"
            ]
          },
          "metadata": {
            "tags": [],
            "needs_background": "light"
          }
        }
      ]
    },
    {
      "cell_type": "markdown",
      "metadata": {
        "id": "BDKRuKWkHtnJ",
        "colab_type": "text"
      },
      "source": [
        "BUILD REGRESSION MODEL "
      ]
    },
    {
      "cell_type": "code",
      "metadata": {
        "id": "gbwzCwZDHvim",
        "colab_type": "code",
        "colab": {
          "base_uri": "https://localhost:8080/",
          "height": 657
        },
        "outputId": "9e692b0d-bf85-4f17-9c9a-9cf20347c867"
      },
      "source": [
        "for i in range(1, 21, 1): \n",
        "  sp.loc[:,'Close Minus ' + str(i)] = sp['Close'].shift(i) \n",
        " \n",
        "sp20 = sp[[x for x in sp.columns if 'Close Minus' in x or x == 'Close']].iloc[20:,] \n",
        " \n",
        "sp20 "
      ],
      "execution_count": 27,
      "outputs": [
        {
          "output_type": "execute_result",
          "data": {
            "text/html": [
              "<div>\n",
              "<style scoped>\n",
              "    .dataframe tbody tr th:only-of-type {\n",
              "        vertical-align: middle;\n",
              "    }\n",
              "\n",
              "    .dataframe tbody tr th {\n",
              "        vertical-align: top;\n",
              "    }\n",
              "\n",
              "    .dataframe thead th {\n",
              "        text-align: right;\n",
              "    }\n",
              "</style>\n",
              "<table border=\"1\" class=\"dataframe\">\n",
              "  <thead>\n",
              "    <tr style=\"text-align: right;\">\n",
              "      <th></th>\n",
              "      <th>Close</th>\n",
              "      <th>Close Minus 1</th>\n",
              "      <th>Close Minus 2</th>\n",
              "      <th>Close Minus 3</th>\n",
              "      <th>Close Minus 4</th>\n",
              "      <th>Close Minus 5</th>\n",
              "      <th>Close Minus 6</th>\n",
              "      <th>Close Minus 7</th>\n",
              "      <th>Close Minus 8</th>\n",
              "      <th>Close Minus 9</th>\n",
              "      <th>Close Minus 10</th>\n",
              "      <th>Close Minus 11</th>\n",
              "      <th>Close Minus 12</th>\n",
              "      <th>Close Minus 13</th>\n",
              "      <th>Close Minus 14</th>\n",
              "      <th>Close Minus 15</th>\n",
              "      <th>Close Minus 16</th>\n",
              "      <th>Close Minus 17</th>\n",
              "      <th>Close Minus 18</th>\n",
              "      <th>Close Minus 19</th>\n",
              "      <th>Close Minus 20</th>\n",
              "    </tr>\n",
              "    <tr>\n",
              "      <th>Date</th>\n",
              "      <th></th>\n",
              "      <th></th>\n",
              "      <th></th>\n",
              "      <th></th>\n",
              "      <th></th>\n",
              "      <th></th>\n",
              "      <th></th>\n",
              "      <th></th>\n",
              "      <th></th>\n",
              "      <th></th>\n",
              "      <th></th>\n",
              "      <th></th>\n",
              "      <th></th>\n",
              "      <th></th>\n",
              "      <th></th>\n",
              "      <th></th>\n",
              "      <th></th>\n",
              "      <th></th>\n",
              "      <th></th>\n",
              "      <th></th>\n",
              "      <th></th>\n",
              "    </tr>\n",
              "  </thead>\n",
              "  <tbody>\n",
              "    <tr>\n",
              "      <th>2000-02-01</th>\n",
              "      <td>140.937500</td>\n",
              "      <td>139.562500</td>\n",
              "      <td>135.875000</td>\n",
              "      <td>140.250000</td>\n",
              "      <td>140.812500</td>\n",
              "      <td>141.937500</td>\n",
              "      <td>140.343750</td>\n",
              "      <td>144.437500</td>\n",
              "      <td>144.750000</td>\n",
              "      <td>147.000000</td>\n",
              "      <td>145.812500</td>\n",
              "      <td>146.968750</td>\n",
              "      <td>145.000000</td>\n",
              "      <td>143.062500</td>\n",
              "      <td>144.500000</td>\n",
              "      <td>146.250000</td>\n",
              "      <td>145.750000</td>\n",
              "      <td>137.750000</td>\n",
              "      <td>140.000000</td>\n",
              "      <td>139.750000</td>\n",
              "      <td>145.437500</td>\n",
              "    </tr>\n",
              "    <tr>\n",
              "      <th>2000-02-02</th>\n",
              "      <td>141.062500</td>\n",
              "      <td>140.937500</td>\n",
              "      <td>139.562500</td>\n",
              "      <td>135.875000</td>\n",
              "      <td>140.250000</td>\n",
              "      <td>140.812500</td>\n",
              "      <td>141.937500</td>\n",
              "      <td>140.343750</td>\n",
              "      <td>144.437500</td>\n",
              "      <td>144.750000</td>\n",
              "      <td>147.000000</td>\n",
              "      <td>145.812500</td>\n",
              "      <td>146.968750</td>\n",
              "      <td>145.000000</td>\n",
              "      <td>143.062500</td>\n",
              "      <td>144.500000</td>\n",
              "      <td>146.250000</td>\n",
              "      <td>145.750000</td>\n",
              "      <td>137.750000</td>\n",
              "      <td>140.000000</td>\n",
              "      <td>139.750000</td>\n",
              "    </tr>\n",
              "    <tr>\n",
              "      <th>2000-02-03</th>\n",
              "      <td>143.187500</td>\n",
              "      <td>141.062500</td>\n",
              "      <td>140.937500</td>\n",
              "      <td>139.562500</td>\n",
              "      <td>135.875000</td>\n",
              "      <td>140.250000</td>\n",
              "      <td>140.812500</td>\n",
              "      <td>141.937500</td>\n",
              "      <td>140.343750</td>\n",
              "      <td>144.437500</td>\n",
              "      <td>144.750000</td>\n",
              "      <td>147.000000</td>\n",
              "      <td>145.812500</td>\n",
              "      <td>146.968750</td>\n",
              "      <td>145.000000</td>\n",
              "      <td>143.062500</td>\n",
              "      <td>144.500000</td>\n",
              "      <td>146.250000</td>\n",
              "      <td>145.750000</td>\n",
              "      <td>137.750000</td>\n",
              "      <td>140.000000</td>\n",
              "    </tr>\n",
              "    <tr>\n",
              "      <th>2000-02-04</th>\n",
              "      <td>142.593750</td>\n",
              "      <td>143.187500</td>\n",
              "      <td>141.062500</td>\n",
              "      <td>140.937500</td>\n",
              "      <td>139.562500</td>\n",
              "      <td>135.875000</td>\n",
              "      <td>140.250000</td>\n",
              "      <td>140.812500</td>\n",
              "      <td>141.937500</td>\n",
              "      <td>140.343750</td>\n",
              "      <td>144.437500</td>\n",
              "      <td>144.750000</td>\n",
              "      <td>147.000000</td>\n",
              "      <td>145.812500</td>\n",
              "      <td>146.968750</td>\n",
              "      <td>145.000000</td>\n",
              "      <td>143.062500</td>\n",
              "      <td>144.500000</td>\n",
              "      <td>146.250000</td>\n",
              "      <td>145.750000</td>\n",
              "      <td>137.750000</td>\n",
              "    </tr>\n",
              "    <tr>\n",
              "      <th>2000-02-07</th>\n",
              "      <td>142.375000</td>\n",
              "      <td>142.593750</td>\n",
              "      <td>143.187500</td>\n",
              "      <td>141.062500</td>\n",
              "      <td>140.937500</td>\n",
              "      <td>139.562500</td>\n",
              "      <td>135.875000</td>\n",
              "      <td>140.250000</td>\n",
              "      <td>140.812500</td>\n",
              "      <td>141.937500</td>\n",
              "      <td>140.343750</td>\n",
              "      <td>144.437500</td>\n",
              "      <td>144.750000</td>\n",
              "      <td>147.000000</td>\n",
              "      <td>145.812500</td>\n",
              "      <td>146.968750</td>\n",
              "      <td>145.000000</td>\n",
              "      <td>143.062500</td>\n",
              "      <td>144.500000</td>\n",
              "      <td>146.250000</td>\n",
              "      <td>145.750000</td>\n",
              "    </tr>\n",
              "    <tr>\n",
              "      <th>...</th>\n",
              "      <td>...</td>\n",
              "      <td>...</td>\n",
              "      <td>...</td>\n",
              "      <td>...</td>\n",
              "      <td>...</td>\n",
              "      <td>...</td>\n",
              "      <td>...</td>\n",
              "      <td>...</td>\n",
              "      <td>...</td>\n",
              "      <td>...</td>\n",
              "      <td>...</td>\n",
              "      <td>...</td>\n",
              "      <td>...</td>\n",
              "      <td>...</td>\n",
              "      <td>...</td>\n",
              "      <td>...</td>\n",
              "      <td>...</td>\n",
              "      <td>...</td>\n",
              "      <td>...</td>\n",
              "      <td>...</td>\n",
              "      <td>...</td>\n",
              "    </tr>\n",
              "    <tr>\n",
              "      <th>2018-11-26</th>\n",
              "      <td>267.500000</td>\n",
              "      <td>263.250000</td>\n",
              "      <td>265.019989</td>\n",
              "      <td>264.119995</td>\n",
              "      <td>269.100006</td>\n",
              "      <td>273.730011</td>\n",
              "      <td>273.019989</td>\n",
              "      <td>270.200012</td>\n",
              "      <td>272.059998</td>\n",
              "      <td>272.570007</td>\n",
              "      <td>277.760010</td>\n",
              "      <td>280.500000</td>\n",
              "      <td>281.010010</td>\n",
              "      <td>275.119995</td>\n",
              "      <td>273.390015</td>\n",
              "      <td>271.890015</td>\n",
              "      <td>273.510010</td>\n",
              "      <td>270.630005</td>\n",
              "      <td>267.769989</td>\n",
              "      <td>263.859985</td>\n",
              "      <td>265.329987</td>\n",
              "    </tr>\n",
              "    <tr>\n",
              "      <th>2018-11-27</th>\n",
              "      <td>268.399994</td>\n",
              "      <td>267.500000</td>\n",
              "      <td>263.250000</td>\n",
              "      <td>265.019989</td>\n",
              "      <td>264.119995</td>\n",
              "      <td>269.100006</td>\n",
              "      <td>273.730011</td>\n",
              "      <td>273.019989</td>\n",
              "      <td>270.200012</td>\n",
              "      <td>272.059998</td>\n",
              "      <td>272.570007</td>\n",
              "      <td>277.760010</td>\n",
              "      <td>280.500000</td>\n",
              "      <td>281.010010</td>\n",
              "      <td>275.119995</td>\n",
              "      <td>273.390015</td>\n",
              "      <td>271.890015</td>\n",
              "      <td>273.510010</td>\n",
              "      <td>270.630005</td>\n",
              "      <td>267.769989</td>\n",
              "      <td>263.859985</td>\n",
              "    </tr>\n",
              "    <tr>\n",
              "      <th>2018-11-28</th>\n",
              "      <td>274.579987</td>\n",
              "      <td>268.399994</td>\n",
              "      <td>267.500000</td>\n",
              "      <td>263.250000</td>\n",
              "      <td>265.019989</td>\n",
              "      <td>264.119995</td>\n",
              "      <td>269.100006</td>\n",
              "      <td>273.730011</td>\n",
              "      <td>273.019989</td>\n",
              "      <td>270.200012</td>\n",
              "      <td>272.059998</td>\n",
              "      <td>272.570007</td>\n",
              "      <td>277.760010</td>\n",
              "      <td>280.500000</td>\n",
              "      <td>281.010010</td>\n",
              "      <td>275.119995</td>\n",
              "      <td>273.390015</td>\n",
              "      <td>271.890015</td>\n",
              "      <td>273.510010</td>\n",
              "      <td>270.630005</td>\n",
              "      <td>267.769989</td>\n",
              "    </tr>\n",
              "    <tr>\n",
              "      <th>2018-11-29</th>\n",
              "      <td>273.980011</td>\n",
              "      <td>274.579987</td>\n",
              "      <td>268.399994</td>\n",
              "      <td>267.500000</td>\n",
              "      <td>263.250000</td>\n",
              "      <td>265.019989</td>\n",
              "      <td>264.119995</td>\n",
              "      <td>269.100006</td>\n",
              "      <td>273.730011</td>\n",
              "      <td>273.019989</td>\n",
              "      <td>270.200012</td>\n",
              "      <td>272.059998</td>\n",
              "      <td>272.570007</td>\n",
              "      <td>277.760010</td>\n",
              "      <td>280.500000</td>\n",
              "      <td>281.010010</td>\n",
              "      <td>275.119995</td>\n",
              "      <td>273.390015</td>\n",
              "      <td>271.890015</td>\n",
              "      <td>273.510010</td>\n",
              "      <td>270.630005</td>\n",
              "    </tr>\n",
              "    <tr>\n",
              "      <th>2018-11-30</th>\n",
              "      <td>275.649994</td>\n",
              "      <td>273.980011</td>\n",
              "      <td>274.579987</td>\n",
              "      <td>268.399994</td>\n",
              "      <td>267.500000</td>\n",
              "      <td>263.250000</td>\n",
              "      <td>265.019989</td>\n",
              "      <td>264.119995</td>\n",
              "      <td>269.100006</td>\n",
              "      <td>273.730011</td>\n",
              "      <td>273.019989</td>\n",
              "      <td>270.200012</td>\n",
              "      <td>272.059998</td>\n",
              "      <td>272.570007</td>\n",
              "      <td>277.760010</td>\n",
              "      <td>280.500000</td>\n",
              "      <td>281.010010</td>\n",
              "      <td>275.119995</td>\n",
              "      <td>273.390015</td>\n",
              "      <td>271.890015</td>\n",
              "      <td>273.510010</td>\n",
              "    </tr>\n",
              "  </tbody>\n",
              "</table>\n",
              "<p>4740 rows × 21 columns</p>\n",
              "</div>"
            ],
            "text/plain": [
              "                 Close  Close Minus 1  ...  Close Minus 19  Close Minus 20\n",
              "Date                                   ...                                \n",
              "2000-02-01  140.937500     139.562500  ...      139.750000      145.437500\n",
              "2000-02-02  141.062500     140.937500  ...      140.000000      139.750000\n",
              "2000-02-03  143.187500     141.062500  ...      137.750000      140.000000\n",
              "2000-02-04  142.593750     143.187500  ...      145.750000      137.750000\n",
              "2000-02-07  142.375000     142.593750  ...      146.250000      145.750000\n",
              "...                ...            ...  ...             ...             ...\n",
              "2018-11-26  267.500000     263.250000  ...      263.859985      265.329987\n",
              "2018-11-27  268.399994     267.500000  ...      267.769989      263.859985\n",
              "2018-11-28  274.579987     268.399994  ...      270.630005      267.769989\n",
              "2018-11-29  273.980011     274.579987  ...      273.510010      270.630005\n",
              "2018-11-30  275.649994     273.980011  ...      271.890015      273.510010\n",
              "\n",
              "[4740 rows x 21 columns]"
            ]
          },
          "metadata": {
            "tags": []
          },
          "execution_count": 27
        }
      ]
    },
    {
      "cell_type": "code",
      "metadata": {
        "id": "QwWvEE8IIZK2",
        "colab_type": "code",
        "colab": {
          "base_uri": "https://localhost:8080/",
          "height": 657
        },
        "outputId": "ad0f2f25-a538-4439-c9f6-481b01cffc48"
      },
      "source": [
        "sp20 = sp20.iloc[:,::-1] \n",
        "sp20"
      ],
      "execution_count": 29,
      "outputs": [
        {
          "output_type": "execute_result",
          "data": {
            "text/html": [
              "<div>\n",
              "<style scoped>\n",
              "    .dataframe tbody tr th:only-of-type {\n",
              "        vertical-align: middle;\n",
              "    }\n",
              "\n",
              "    .dataframe tbody tr th {\n",
              "        vertical-align: top;\n",
              "    }\n",
              "\n",
              "    .dataframe thead th {\n",
              "        text-align: right;\n",
              "    }\n",
              "</style>\n",
              "<table border=\"1\" class=\"dataframe\">\n",
              "  <thead>\n",
              "    <tr style=\"text-align: right;\">\n",
              "      <th></th>\n",
              "      <th>Close</th>\n",
              "      <th>Close Minus 1</th>\n",
              "      <th>Close Minus 2</th>\n",
              "      <th>Close Minus 3</th>\n",
              "      <th>Close Minus 4</th>\n",
              "      <th>Close Minus 5</th>\n",
              "      <th>Close Minus 6</th>\n",
              "      <th>Close Minus 7</th>\n",
              "      <th>Close Minus 8</th>\n",
              "      <th>Close Minus 9</th>\n",
              "      <th>Close Minus 10</th>\n",
              "      <th>Close Minus 11</th>\n",
              "      <th>Close Minus 12</th>\n",
              "      <th>Close Minus 13</th>\n",
              "      <th>Close Minus 14</th>\n",
              "      <th>Close Minus 15</th>\n",
              "      <th>Close Minus 16</th>\n",
              "      <th>Close Minus 17</th>\n",
              "      <th>Close Minus 18</th>\n",
              "      <th>Close Minus 19</th>\n",
              "      <th>Close Minus 20</th>\n",
              "    </tr>\n",
              "    <tr>\n",
              "      <th>Date</th>\n",
              "      <th></th>\n",
              "      <th></th>\n",
              "      <th></th>\n",
              "      <th></th>\n",
              "      <th></th>\n",
              "      <th></th>\n",
              "      <th></th>\n",
              "      <th></th>\n",
              "      <th></th>\n",
              "      <th></th>\n",
              "      <th></th>\n",
              "      <th></th>\n",
              "      <th></th>\n",
              "      <th></th>\n",
              "      <th></th>\n",
              "      <th></th>\n",
              "      <th></th>\n",
              "      <th></th>\n",
              "      <th></th>\n",
              "      <th></th>\n",
              "      <th></th>\n",
              "    </tr>\n",
              "  </thead>\n",
              "  <tbody>\n",
              "    <tr>\n",
              "      <th>2000-02-01</th>\n",
              "      <td>140.937500</td>\n",
              "      <td>139.562500</td>\n",
              "      <td>135.875000</td>\n",
              "      <td>140.250000</td>\n",
              "      <td>140.812500</td>\n",
              "      <td>141.937500</td>\n",
              "      <td>140.343750</td>\n",
              "      <td>144.437500</td>\n",
              "      <td>144.750000</td>\n",
              "      <td>147.000000</td>\n",
              "      <td>145.812500</td>\n",
              "      <td>146.968750</td>\n",
              "      <td>145.000000</td>\n",
              "      <td>143.062500</td>\n",
              "      <td>144.500000</td>\n",
              "      <td>146.250000</td>\n",
              "      <td>145.750000</td>\n",
              "      <td>137.750000</td>\n",
              "      <td>140.000000</td>\n",
              "      <td>139.750000</td>\n",
              "      <td>145.437500</td>\n",
              "    </tr>\n",
              "    <tr>\n",
              "      <th>2000-02-02</th>\n",
              "      <td>141.062500</td>\n",
              "      <td>140.937500</td>\n",
              "      <td>139.562500</td>\n",
              "      <td>135.875000</td>\n",
              "      <td>140.250000</td>\n",
              "      <td>140.812500</td>\n",
              "      <td>141.937500</td>\n",
              "      <td>140.343750</td>\n",
              "      <td>144.437500</td>\n",
              "      <td>144.750000</td>\n",
              "      <td>147.000000</td>\n",
              "      <td>145.812500</td>\n",
              "      <td>146.968750</td>\n",
              "      <td>145.000000</td>\n",
              "      <td>143.062500</td>\n",
              "      <td>144.500000</td>\n",
              "      <td>146.250000</td>\n",
              "      <td>145.750000</td>\n",
              "      <td>137.750000</td>\n",
              "      <td>140.000000</td>\n",
              "      <td>139.750000</td>\n",
              "    </tr>\n",
              "    <tr>\n",
              "      <th>2000-02-03</th>\n",
              "      <td>143.187500</td>\n",
              "      <td>141.062500</td>\n",
              "      <td>140.937500</td>\n",
              "      <td>139.562500</td>\n",
              "      <td>135.875000</td>\n",
              "      <td>140.250000</td>\n",
              "      <td>140.812500</td>\n",
              "      <td>141.937500</td>\n",
              "      <td>140.343750</td>\n",
              "      <td>144.437500</td>\n",
              "      <td>144.750000</td>\n",
              "      <td>147.000000</td>\n",
              "      <td>145.812500</td>\n",
              "      <td>146.968750</td>\n",
              "      <td>145.000000</td>\n",
              "      <td>143.062500</td>\n",
              "      <td>144.500000</td>\n",
              "      <td>146.250000</td>\n",
              "      <td>145.750000</td>\n",
              "      <td>137.750000</td>\n",
              "      <td>140.000000</td>\n",
              "    </tr>\n",
              "    <tr>\n",
              "      <th>2000-02-04</th>\n",
              "      <td>142.593750</td>\n",
              "      <td>143.187500</td>\n",
              "      <td>141.062500</td>\n",
              "      <td>140.937500</td>\n",
              "      <td>139.562500</td>\n",
              "      <td>135.875000</td>\n",
              "      <td>140.250000</td>\n",
              "      <td>140.812500</td>\n",
              "      <td>141.937500</td>\n",
              "      <td>140.343750</td>\n",
              "      <td>144.437500</td>\n",
              "      <td>144.750000</td>\n",
              "      <td>147.000000</td>\n",
              "      <td>145.812500</td>\n",
              "      <td>146.968750</td>\n",
              "      <td>145.000000</td>\n",
              "      <td>143.062500</td>\n",
              "      <td>144.500000</td>\n",
              "      <td>146.250000</td>\n",
              "      <td>145.750000</td>\n",
              "      <td>137.750000</td>\n",
              "    </tr>\n",
              "    <tr>\n",
              "      <th>2000-02-07</th>\n",
              "      <td>142.375000</td>\n",
              "      <td>142.593750</td>\n",
              "      <td>143.187500</td>\n",
              "      <td>141.062500</td>\n",
              "      <td>140.937500</td>\n",
              "      <td>139.562500</td>\n",
              "      <td>135.875000</td>\n",
              "      <td>140.250000</td>\n",
              "      <td>140.812500</td>\n",
              "      <td>141.937500</td>\n",
              "      <td>140.343750</td>\n",
              "      <td>144.437500</td>\n",
              "      <td>144.750000</td>\n",
              "      <td>147.000000</td>\n",
              "      <td>145.812500</td>\n",
              "      <td>146.968750</td>\n",
              "      <td>145.000000</td>\n",
              "      <td>143.062500</td>\n",
              "      <td>144.500000</td>\n",
              "      <td>146.250000</td>\n",
              "      <td>145.750000</td>\n",
              "    </tr>\n",
              "    <tr>\n",
              "      <th>...</th>\n",
              "      <td>...</td>\n",
              "      <td>...</td>\n",
              "      <td>...</td>\n",
              "      <td>...</td>\n",
              "      <td>...</td>\n",
              "      <td>...</td>\n",
              "      <td>...</td>\n",
              "      <td>...</td>\n",
              "      <td>...</td>\n",
              "      <td>...</td>\n",
              "      <td>...</td>\n",
              "      <td>...</td>\n",
              "      <td>...</td>\n",
              "      <td>...</td>\n",
              "      <td>...</td>\n",
              "      <td>...</td>\n",
              "      <td>...</td>\n",
              "      <td>...</td>\n",
              "      <td>...</td>\n",
              "      <td>...</td>\n",
              "      <td>...</td>\n",
              "    </tr>\n",
              "    <tr>\n",
              "      <th>2018-11-26</th>\n",
              "      <td>267.500000</td>\n",
              "      <td>263.250000</td>\n",
              "      <td>265.019989</td>\n",
              "      <td>264.119995</td>\n",
              "      <td>269.100006</td>\n",
              "      <td>273.730011</td>\n",
              "      <td>273.019989</td>\n",
              "      <td>270.200012</td>\n",
              "      <td>272.059998</td>\n",
              "      <td>272.570007</td>\n",
              "      <td>277.760010</td>\n",
              "      <td>280.500000</td>\n",
              "      <td>281.010010</td>\n",
              "      <td>275.119995</td>\n",
              "      <td>273.390015</td>\n",
              "      <td>271.890015</td>\n",
              "      <td>273.510010</td>\n",
              "      <td>270.630005</td>\n",
              "      <td>267.769989</td>\n",
              "      <td>263.859985</td>\n",
              "      <td>265.329987</td>\n",
              "    </tr>\n",
              "    <tr>\n",
              "      <th>2018-11-27</th>\n",
              "      <td>268.399994</td>\n",
              "      <td>267.500000</td>\n",
              "      <td>263.250000</td>\n",
              "      <td>265.019989</td>\n",
              "      <td>264.119995</td>\n",
              "      <td>269.100006</td>\n",
              "      <td>273.730011</td>\n",
              "      <td>273.019989</td>\n",
              "      <td>270.200012</td>\n",
              "      <td>272.059998</td>\n",
              "      <td>272.570007</td>\n",
              "      <td>277.760010</td>\n",
              "      <td>280.500000</td>\n",
              "      <td>281.010010</td>\n",
              "      <td>275.119995</td>\n",
              "      <td>273.390015</td>\n",
              "      <td>271.890015</td>\n",
              "      <td>273.510010</td>\n",
              "      <td>270.630005</td>\n",
              "      <td>267.769989</td>\n",
              "      <td>263.859985</td>\n",
              "    </tr>\n",
              "    <tr>\n",
              "      <th>2018-11-28</th>\n",
              "      <td>274.579987</td>\n",
              "      <td>268.399994</td>\n",
              "      <td>267.500000</td>\n",
              "      <td>263.250000</td>\n",
              "      <td>265.019989</td>\n",
              "      <td>264.119995</td>\n",
              "      <td>269.100006</td>\n",
              "      <td>273.730011</td>\n",
              "      <td>273.019989</td>\n",
              "      <td>270.200012</td>\n",
              "      <td>272.059998</td>\n",
              "      <td>272.570007</td>\n",
              "      <td>277.760010</td>\n",
              "      <td>280.500000</td>\n",
              "      <td>281.010010</td>\n",
              "      <td>275.119995</td>\n",
              "      <td>273.390015</td>\n",
              "      <td>271.890015</td>\n",
              "      <td>273.510010</td>\n",
              "      <td>270.630005</td>\n",
              "      <td>267.769989</td>\n",
              "    </tr>\n",
              "    <tr>\n",
              "      <th>2018-11-29</th>\n",
              "      <td>273.980011</td>\n",
              "      <td>274.579987</td>\n",
              "      <td>268.399994</td>\n",
              "      <td>267.500000</td>\n",
              "      <td>263.250000</td>\n",
              "      <td>265.019989</td>\n",
              "      <td>264.119995</td>\n",
              "      <td>269.100006</td>\n",
              "      <td>273.730011</td>\n",
              "      <td>273.019989</td>\n",
              "      <td>270.200012</td>\n",
              "      <td>272.059998</td>\n",
              "      <td>272.570007</td>\n",
              "      <td>277.760010</td>\n",
              "      <td>280.500000</td>\n",
              "      <td>281.010010</td>\n",
              "      <td>275.119995</td>\n",
              "      <td>273.390015</td>\n",
              "      <td>271.890015</td>\n",
              "      <td>273.510010</td>\n",
              "      <td>270.630005</td>\n",
              "    </tr>\n",
              "    <tr>\n",
              "      <th>2018-11-30</th>\n",
              "      <td>275.649994</td>\n",
              "      <td>273.980011</td>\n",
              "      <td>274.579987</td>\n",
              "      <td>268.399994</td>\n",
              "      <td>267.500000</td>\n",
              "      <td>263.250000</td>\n",
              "      <td>265.019989</td>\n",
              "      <td>264.119995</td>\n",
              "      <td>269.100006</td>\n",
              "      <td>273.730011</td>\n",
              "      <td>273.019989</td>\n",
              "      <td>270.200012</td>\n",
              "      <td>272.059998</td>\n",
              "      <td>272.570007</td>\n",
              "      <td>277.760010</td>\n",
              "      <td>280.500000</td>\n",
              "      <td>281.010010</td>\n",
              "      <td>275.119995</td>\n",
              "      <td>273.390015</td>\n",
              "      <td>271.890015</td>\n",
              "      <td>273.510010</td>\n",
              "    </tr>\n",
              "  </tbody>\n",
              "</table>\n",
              "<p>4740 rows × 21 columns</p>\n",
              "</div>"
            ],
            "text/plain": [
              "                 Close  Close Minus 1  ...  Close Minus 19  Close Minus 20\n",
              "Date                                   ...                                \n",
              "2000-02-01  140.937500     139.562500  ...      139.750000      145.437500\n",
              "2000-02-02  141.062500     140.937500  ...      140.000000      139.750000\n",
              "2000-02-03  143.187500     141.062500  ...      137.750000      140.000000\n",
              "2000-02-04  142.593750     143.187500  ...      145.750000      137.750000\n",
              "2000-02-07  142.375000     142.593750  ...      146.250000      145.750000\n",
              "...                ...            ...  ...             ...             ...\n",
              "2018-11-26  267.500000     263.250000  ...      263.859985      265.329987\n",
              "2018-11-27  268.399994     267.500000  ...      267.769989      263.859985\n",
              "2018-11-28  274.579987     268.399994  ...      270.630005      267.769989\n",
              "2018-11-29  273.980011     274.579987  ...      273.510010      270.630005\n",
              "2018-11-30  275.649994     273.980011  ...      271.890015      273.510010\n",
              "\n",
              "[4740 rows x 21 columns]"
            ]
          },
          "metadata": {
            "tags": []
          },
          "execution_count": 29
        }
      ]
    },
    {
      "cell_type": "code",
      "metadata": {
        "id": "yq5VYcxLIjcs",
        "colab_type": "code",
        "colab": {}
      },
      "source": [
        "# Start training\n",
        "from sklearn.svm import SVR \n",
        "\n",
        "clf = SVR(kernel='linear') \n",
        " \n",
        "X_train = sp20[:-2000] \n",
        "y_train = sp20['Close'].shift(-1)[:-2000] \n",
        " \n",
        "X_test = sp20[-2000:] \n",
        "y_test = sp20['Close'].shift(-1)[-2000:] "
      ],
      "execution_count": 31,
      "outputs": []
    },
    {
      "cell_type": "code",
      "metadata": {
        "id": "qaGAY1xYItGb",
        "colab_type": "code",
        "colab": {}
      },
      "source": [
        "model = clf.fit(X_train, y_train) \n",
        " \n",
        "preds = model.predict(X_test) "
      ],
      "execution_count": 32,
      "outputs": []
    },
    {
      "cell_type": "code",
      "metadata": {
        "id": "37ysOsWgI15M",
        "colab_type": "code",
        "colab": {
          "base_uri": "https://localhost:8080/",
          "height": 450
        },
        "outputId": "f9d643eb-613e-44a1-b312-7587d6475ac6"
      },
      "source": [
        "tf = pd.DataFrame(list(zip(y_test, preds)), columns=['Next Day Close', 'Predicted Next Close'], index=y_test.index) \n",
        " \n",
        "tf "
      ],
      "execution_count": 33,
      "outputs": [
        {
          "output_type": "execute_result",
          "data": {
            "text/html": [
              "<div>\n",
              "<style scoped>\n",
              "    .dataframe tbody tr th:only-of-type {\n",
              "        vertical-align: middle;\n",
              "    }\n",
              "\n",
              "    .dataframe tbody tr th {\n",
              "        vertical-align: top;\n",
              "    }\n",
              "\n",
              "    .dataframe thead th {\n",
              "        text-align: right;\n",
              "    }\n",
              "</style>\n",
              "<table border=\"1\" class=\"dataframe\">\n",
              "  <thead>\n",
              "    <tr style=\"text-align: right;\">\n",
              "      <th></th>\n",
              "      <th>Next Day Close</th>\n",
              "      <th>Predicted Next Close</th>\n",
              "    </tr>\n",
              "    <tr>\n",
              "      <th>Date</th>\n",
              "      <th></th>\n",
              "      <th></th>\n",
              "    </tr>\n",
              "  </thead>\n",
              "  <tbody>\n",
              "    <tr>\n",
              "      <th>2010-12-22</th>\n",
              "      <td>125.599998</td>\n",
              "      <td>125.796373</td>\n",
              "    </tr>\n",
              "    <tr>\n",
              "      <th>2010-12-23</th>\n",
              "      <td>125.650002</td>\n",
              "      <td>125.870888</td>\n",
              "    </tr>\n",
              "    <tr>\n",
              "      <th>2010-12-27</th>\n",
              "      <td>125.830002</td>\n",
              "      <td>125.682639</td>\n",
              "    </tr>\n",
              "    <tr>\n",
              "      <th>2010-12-28</th>\n",
              "      <td>125.919998</td>\n",
              "      <td>125.864078</td>\n",
              "    </tr>\n",
              "    <tr>\n",
              "      <th>2010-12-29</th>\n",
              "      <td>125.720001</td>\n",
              "      <td>125.892762</td>\n",
              "    </tr>\n",
              "    <tr>\n",
              "      <th>...</th>\n",
              "      <td>...</td>\n",
              "      <td>...</td>\n",
              "    </tr>\n",
              "    <tr>\n",
              "      <th>2018-11-26</th>\n",
              "      <td>268.399994</td>\n",
              "      <td>267.498317</td>\n",
              "    </tr>\n",
              "    <tr>\n",
              "      <th>2018-11-27</th>\n",
              "      <td>274.579987</td>\n",
              "      <td>267.974248</td>\n",
              "    </tr>\n",
              "    <tr>\n",
              "      <th>2018-11-28</th>\n",
              "      <td>273.980011</td>\n",
              "      <td>274.281718</td>\n",
              "    </tr>\n",
              "    <tr>\n",
              "      <th>2018-11-29</th>\n",
              "      <td>275.649994</td>\n",
              "      <td>273.863524</td>\n",
              "    </tr>\n",
              "    <tr>\n",
              "      <th>2018-11-30</th>\n",
              "      <td>NaN</td>\n",
              "      <td>275.671173</td>\n",
              "    </tr>\n",
              "  </tbody>\n",
              "</table>\n",
              "<p>2000 rows × 2 columns</p>\n",
              "</div>"
            ],
            "text/plain": [
              "            Next Day Close  Predicted Next Close\n",
              "Date                                            \n",
              "2010-12-22      125.599998            125.796373\n",
              "2010-12-23      125.650002            125.870888\n",
              "2010-12-27      125.830002            125.682639\n",
              "2010-12-28      125.919998            125.864078\n",
              "2010-12-29      125.720001            125.892762\n",
              "...                    ...                   ...\n",
              "2018-11-26      268.399994            267.498317\n",
              "2018-11-27      274.579987            267.974248\n",
              "2018-11-28      273.980011            274.281718\n",
              "2018-11-29      275.649994            273.863524\n",
              "2018-11-30             NaN            275.671173\n",
              "\n",
              "[2000 rows x 2 columns]"
            ]
          },
          "metadata": {
            "tags": []
          },
          "execution_count": 33
        }
      ]
    },
    {
      "cell_type": "code",
      "metadata": {
        "id": "DjctoKtrL_Mv",
        "colab_type": "code",
        "colab": {}
      },
      "source": [
        ""
      ],
      "execution_count": null,
      "outputs": []
    },
    {
      "cell_type": "markdown",
      "metadata": {
        "id": "9m0J848dL_Y8",
        "colab_type": "text"
      },
      "source": [
        "PERFORMANCE OF MODEL"
      ]
    },
    {
      "cell_type": "code",
      "metadata": {
        "id": "TljnJWd1MA-q",
        "colab_type": "code",
        "colab": {
          "base_uri": "https://localhost:8080/",
          "height": 450
        },
        "outputId": "4d06dac4-5b64-4c49-e863-d706d7cde517"
      },
      "source": [
        "cdc = sp[['Close']].iloc[-2000:] \n",
        "ndo = sp[['Open']].iloc[-2000:].shift(-1) \n",
        " \n",
        "tf1 = pd.merge(tf, cdc, left_index=True, right_index=True) \n",
        "tf2 = pd.merge(tf1, ndo, left_index=True, right_index=True) \n",
        "tf2.columns = ['Next Day Close', 'Predicted Next Close', 'Current Day Close', 'Next Day Open'] \n",
        " \n",
        "tf2 "
      ],
      "execution_count": 39,
      "outputs": [
        {
          "output_type": "execute_result",
          "data": {
            "text/html": [
              "<div>\n",
              "<style scoped>\n",
              "    .dataframe tbody tr th:only-of-type {\n",
              "        vertical-align: middle;\n",
              "    }\n",
              "\n",
              "    .dataframe tbody tr th {\n",
              "        vertical-align: top;\n",
              "    }\n",
              "\n",
              "    .dataframe thead th {\n",
              "        text-align: right;\n",
              "    }\n",
              "</style>\n",
              "<table border=\"1\" class=\"dataframe\">\n",
              "  <thead>\n",
              "    <tr style=\"text-align: right;\">\n",
              "      <th></th>\n",
              "      <th>Next Day Close</th>\n",
              "      <th>Predicted Next Close</th>\n",
              "      <th>Current Day Close</th>\n",
              "      <th>Next Day Open</th>\n",
              "    </tr>\n",
              "    <tr>\n",
              "      <th>Date</th>\n",
              "      <th></th>\n",
              "      <th></th>\n",
              "      <th></th>\n",
              "      <th></th>\n",
              "    </tr>\n",
              "  </thead>\n",
              "  <tbody>\n",
              "    <tr>\n",
              "      <th>2010-12-22</th>\n",
              "      <td>125.599998</td>\n",
              "      <td>125.796373</td>\n",
              "      <td>125.779999</td>\n",
              "      <td>125.639999</td>\n",
              "    </tr>\n",
              "    <tr>\n",
              "      <th>2010-12-23</th>\n",
              "      <td>125.650002</td>\n",
              "      <td>125.870888</td>\n",
              "      <td>125.599998</td>\n",
              "      <td>125.129997</td>\n",
              "    </tr>\n",
              "    <tr>\n",
              "      <th>2010-12-27</th>\n",
              "      <td>125.830002</td>\n",
              "      <td>125.682639</td>\n",
              "      <td>125.650002</td>\n",
              "      <td>125.900002</td>\n",
              "    </tr>\n",
              "    <tr>\n",
              "      <th>2010-12-28</th>\n",
              "      <td>125.919998</td>\n",
              "      <td>125.864078</td>\n",
              "      <td>125.830002</td>\n",
              "      <td>125.980003</td>\n",
              "    </tr>\n",
              "    <tr>\n",
              "      <th>2010-12-29</th>\n",
              "      <td>125.720001</td>\n",
              "      <td>125.892762</td>\n",
              "      <td>125.919998</td>\n",
              "      <td>125.800003</td>\n",
              "    </tr>\n",
              "    <tr>\n",
              "      <th>...</th>\n",
              "      <td>...</td>\n",
              "      <td>...</td>\n",
              "      <td>...</td>\n",
              "      <td>...</td>\n",
              "    </tr>\n",
              "    <tr>\n",
              "      <th>2018-11-26</th>\n",
              "      <td>268.399994</td>\n",
              "      <td>267.498317</td>\n",
              "      <td>267.500000</td>\n",
              "      <td>266.339996</td>\n",
              "    </tr>\n",
              "    <tr>\n",
              "      <th>2018-11-27</th>\n",
              "      <td>274.579987</td>\n",
              "      <td>267.974248</td>\n",
              "      <td>268.399994</td>\n",
              "      <td>269.600006</td>\n",
              "    </tr>\n",
              "    <tr>\n",
              "      <th>2018-11-28</th>\n",
              "      <td>273.980011</td>\n",
              "      <td>274.281718</td>\n",
              "      <td>274.579987</td>\n",
              "      <td>273.709991</td>\n",
              "    </tr>\n",
              "    <tr>\n",
              "      <th>2018-11-29</th>\n",
              "      <td>275.649994</td>\n",
              "      <td>273.863524</td>\n",
              "      <td>273.980011</td>\n",
              "      <td>273.809998</td>\n",
              "    </tr>\n",
              "    <tr>\n",
              "      <th>2018-11-30</th>\n",
              "      <td>NaN</td>\n",
              "      <td>275.671173</td>\n",
              "      <td>275.649994</td>\n",
              "      <td>NaN</td>\n",
              "    </tr>\n",
              "  </tbody>\n",
              "</table>\n",
              "<p>2000 rows × 4 columns</p>\n",
              "</div>"
            ],
            "text/plain": [
              "            Next Day Close  ...  Next Day Open\n",
              "Date                        ...               \n",
              "2010-12-22      125.599998  ...     125.639999\n",
              "2010-12-23      125.650002  ...     125.129997\n",
              "2010-12-27      125.830002  ...     125.900002\n",
              "2010-12-28      125.919998  ...     125.980003\n",
              "2010-12-29      125.720001  ...     125.800003\n",
              "...                    ...  ...            ...\n",
              "2018-11-26      268.399994  ...     266.339996\n",
              "2018-11-27      274.579987  ...     269.600006\n",
              "2018-11-28      273.980011  ...     273.709991\n",
              "2018-11-29      275.649994  ...     273.809998\n",
              "2018-11-30             NaN  ...            NaN\n",
              "\n",
              "[2000 rows x 4 columns]"
            ]
          },
          "metadata": {
            "tags": []
          },
          "execution_count": 39
        }
      ]
    },
    {
      "cell_type": "code",
      "metadata": {
        "id": "QegYuy6DMkLG",
        "colab_type": "code",
        "colab": {
          "base_uri": "https://localhost:8080/",
          "height": 450
        },
        "outputId": "97fb6eba-2436-4e57-a154-a97804d77a9f"
      },
      "source": [
        "def get_signal(r): \n",
        "    if r['Predicted Next Close'] > r['Next Day Open']: \n",
        "        return 1 \n",
        "    else: \n",
        "        return 0 \n",
        " \n",
        "def get_ret(r): \n",
        "    if r['Signal'] == 1: \n",
        "        return ((r['Next Day Close'] - r['Next Day Open'])/r['Next Day Open']) * 100 \n",
        "    else: \n",
        "        return 0 \n",
        " \n",
        "tf2 = tf2.assign(Signal = tf2.apply(get_signal, axis=1)) \n",
        "tf2 = tf2.assign(PnL = tf2.apply(get_ret, axis=1)) \n",
        " \n",
        "tf2 "
      ],
      "execution_count": 40,
      "outputs": [
        {
          "output_type": "execute_result",
          "data": {
            "text/html": [
              "<div>\n",
              "<style scoped>\n",
              "    .dataframe tbody tr th:only-of-type {\n",
              "        vertical-align: middle;\n",
              "    }\n",
              "\n",
              "    .dataframe tbody tr th {\n",
              "        vertical-align: top;\n",
              "    }\n",
              "\n",
              "    .dataframe thead th {\n",
              "        text-align: right;\n",
              "    }\n",
              "</style>\n",
              "<table border=\"1\" class=\"dataframe\">\n",
              "  <thead>\n",
              "    <tr style=\"text-align: right;\">\n",
              "      <th></th>\n",
              "      <th>Next Day Close</th>\n",
              "      <th>Predicted Next Close</th>\n",
              "      <th>Current Day Close</th>\n",
              "      <th>Next Day Open</th>\n",
              "      <th>Signal</th>\n",
              "      <th>PnL</th>\n",
              "    </tr>\n",
              "    <tr>\n",
              "      <th>Date</th>\n",
              "      <th></th>\n",
              "      <th></th>\n",
              "      <th></th>\n",
              "      <th></th>\n",
              "      <th></th>\n",
              "      <th></th>\n",
              "    </tr>\n",
              "  </thead>\n",
              "  <tbody>\n",
              "    <tr>\n",
              "      <th>2010-12-22</th>\n",
              "      <td>125.599998</td>\n",
              "      <td>125.796373</td>\n",
              "      <td>125.779999</td>\n",
              "      <td>125.639999</td>\n",
              "      <td>1</td>\n",
              "      <td>-0.031838</td>\n",
              "    </tr>\n",
              "    <tr>\n",
              "      <th>2010-12-23</th>\n",
              "      <td>125.650002</td>\n",
              "      <td>125.870888</td>\n",
              "      <td>125.599998</td>\n",
              "      <td>125.129997</td>\n",
              "      <td>1</td>\n",
              "      <td>0.415571</td>\n",
              "    </tr>\n",
              "    <tr>\n",
              "      <th>2010-12-27</th>\n",
              "      <td>125.830002</td>\n",
              "      <td>125.682639</td>\n",
              "      <td>125.650002</td>\n",
              "      <td>125.900002</td>\n",
              "      <td>0</td>\n",
              "      <td>0.000000</td>\n",
              "    </tr>\n",
              "    <tr>\n",
              "      <th>2010-12-28</th>\n",
              "      <td>125.919998</td>\n",
              "      <td>125.864078</td>\n",
              "      <td>125.830002</td>\n",
              "      <td>125.980003</td>\n",
              "      <td>0</td>\n",
              "      <td>0.000000</td>\n",
              "    </tr>\n",
              "    <tr>\n",
              "      <th>2010-12-29</th>\n",
              "      <td>125.720001</td>\n",
              "      <td>125.892762</td>\n",
              "      <td>125.919998</td>\n",
              "      <td>125.800003</td>\n",
              "      <td>1</td>\n",
              "      <td>-0.063594</td>\n",
              "    </tr>\n",
              "    <tr>\n",
              "      <th>...</th>\n",
              "      <td>...</td>\n",
              "      <td>...</td>\n",
              "      <td>...</td>\n",
              "      <td>...</td>\n",
              "      <td>...</td>\n",
              "      <td>...</td>\n",
              "    </tr>\n",
              "    <tr>\n",
              "      <th>2018-11-26</th>\n",
              "      <td>268.399994</td>\n",
              "      <td>267.498317</td>\n",
              "      <td>267.500000</td>\n",
              "      <td>266.339996</td>\n",
              "      <td>1</td>\n",
              "      <td>0.773447</td>\n",
              "    </tr>\n",
              "    <tr>\n",
              "      <th>2018-11-27</th>\n",
              "      <td>274.579987</td>\n",
              "      <td>267.974248</td>\n",
              "      <td>268.399994</td>\n",
              "      <td>269.600006</td>\n",
              "      <td>0</td>\n",
              "      <td>0.000000</td>\n",
              "    </tr>\n",
              "    <tr>\n",
              "      <th>2018-11-28</th>\n",
              "      <td>273.980011</td>\n",
              "      <td>274.281718</td>\n",
              "      <td>274.579987</td>\n",
              "      <td>273.709991</td>\n",
              "      <td>1</td>\n",
              "      <td>0.098652</td>\n",
              "    </tr>\n",
              "    <tr>\n",
              "      <th>2018-11-29</th>\n",
              "      <td>275.649994</td>\n",
              "      <td>273.863524</td>\n",
              "      <td>273.980011</td>\n",
              "      <td>273.809998</td>\n",
              "      <td>1</td>\n",
              "      <td>0.671997</td>\n",
              "    </tr>\n",
              "    <tr>\n",
              "      <th>2018-11-30</th>\n",
              "      <td>NaN</td>\n",
              "      <td>275.671173</td>\n",
              "      <td>275.649994</td>\n",
              "      <td>NaN</td>\n",
              "      <td>0</td>\n",
              "      <td>0.000000</td>\n",
              "    </tr>\n",
              "  </tbody>\n",
              "</table>\n",
              "<p>2000 rows × 6 columns</p>\n",
              "</div>"
            ],
            "text/plain": [
              "            Next Day Close  Predicted Next Close  ...  Signal       PnL\n",
              "Date                                              ...                  \n",
              "2010-12-22      125.599998            125.796373  ...       1 -0.031838\n",
              "2010-12-23      125.650002            125.870888  ...       1  0.415571\n",
              "2010-12-27      125.830002            125.682639  ...       0  0.000000\n",
              "2010-12-28      125.919998            125.864078  ...       0  0.000000\n",
              "2010-12-29      125.720001            125.892762  ...       1 -0.063594\n",
              "...                    ...                   ...  ...     ...       ...\n",
              "2018-11-26      268.399994            267.498317  ...       1  0.773447\n",
              "2018-11-27      274.579987            267.974248  ...       0  0.000000\n",
              "2018-11-28      273.980011            274.281718  ...       1  0.098652\n",
              "2018-11-29      275.649994            273.863524  ...       1  0.671997\n",
              "2018-11-30             NaN            275.671173  ...       0  0.000000\n",
              "\n",
              "[2000 rows x 6 columns]"
            ]
          },
          "metadata": {
            "tags": []
          },
          "execution_count": 40
        }
      ]
    },
    {
      "cell_type": "code",
      "metadata": {
        "id": "NHg5o3_BOVAN",
        "colab_type": "code",
        "colab": {
          "base_uri": "https://localhost:8080/",
          "height": 34
        },
        "outputId": "7da1458b-d184-4aaf-e0ba-b3f59c37bb6d"
      },
      "source": [
        "# (tf2[tf2['Signal']==1]['Next Day Close'] - tf2[tf2['Signal']==1]['Next Day Open']).sum() \n",
        "(sp['Close'].iloc[-2000:] - sp['Open'].iloc[-2000:]).sum() "
      ],
      "execution_count": 42,
      "outputs": [
        {
          "output_type": "execute_result",
          "data": {
            "text/plain": [
              "58.98988342285156"
            ]
          },
          "metadata": {
            "tags": []
          },
          "execution_count": 42
        }
      ]
    },
    {
      "cell_type": "code",
      "metadata": {
        "id": "miHeUySdI2fG",
        "colab_type": "code",
        "colab": {
          "base_uri": "https://localhost:8080/",
          "height": 51
        },
        "outputId": "5a13b848-c761-488e-c54c-cb330227d36a"
      },
      "source": [
        "# Dynamic time warping\n",
        "!pip install fastdtw "
      ],
      "execution_count": 34,
      "outputs": [
        {
          "output_type": "stream",
          "text": [
            "Requirement already satisfied: fastdtw in /usr/local/lib/python3.6/dist-packages (0.3.4)\n",
            "Requirement already satisfied: numpy in /usr/local/lib/python3.6/dist-packages (from fastdtw) (1.18.5)\n"
          ],
          "name": "stdout"
        }
      ]
    },
    {
      "cell_type": "code",
      "metadata": {
        "id": "aeCwh2jWLaPX",
        "colab_type": "code",
        "colab": {}
      },
      "source": [
        "from scipy.spatial.distance import euclidean \n",
        "from fastdtw import fastdtw "
      ],
      "execution_count": 36,
      "outputs": []
    },
    {
      "cell_type": "code",
      "metadata": {
        "id": "di93OBD3Lv-I",
        "colab_type": "code",
        "colab": {}
      },
      "source": [
        "def dtw_dist(x, y): \n",
        "    distance, path = fastdtw(x, y, dist=euclidean) \n",
        "    return distance "
      ],
      "execution_count": 37,
      "outputs": []
    },
    {
      "cell_type": "code",
      "metadata": {
        "id": "AB9J2jNoO56l",
        "colab_type": "code",
        "colab": {}
      },
      "source": [
        "tseries = [] \n",
        "tlen = 5 \n",
        "for i in range(tlen, len(sp), tlen): \n",
        "    pctc = sp['Close'].iloc[i-tlen:i].pct_change()[1:].values * 100 \n",
        "    res = sp['Close'].iloc[i-tlen:i+1].pct_change()[-1] * 100 \n",
        "    tseries.append((pctc, res)) "
      ],
      "execution_count": 43,
      "outputs": []
    },
    {
      "cell_type": "code",
      "metadata": {
        "id": "O7cJomrIQVfA",
        "colab_type": "code",
        "colab": {
          "base_uri": "https://localhost:8080/",
          "height": 51
        },
        "outputId": "317b327d-4dc4-4d17-97ee-f1bd0b93d5f6"
      },
      "source": [
        "tseries[0] "
      ],
      "execution_count": 44,
      "outputs": [
        {
          "output_type": "execute_result",
          "data": {
            "text/plain": [
              "(array([-3.91061453,  0.17889088, -1.60714286,  5.8076225 ]),\n",
              " 0.34305317324185847)"
            ]
          },
          "metadata": {
            "tags": []
          },
          "execution_count": 44
        }
      ]
    },
    {
      "cell_type": "code",
      "metadata": {
        "id": "ar4jrtNDQZTH",
        "colab_type": "code",
        "colab": {}
      },
      "source": [
        "dist_pairs = []\n",
        "len_test = 100 \n",
        "for i in range(len_test): \n",
        "    for j in range(len_test): \n",
        "        dist = dtw_dist(tseries[i][0], tseries[j][0]) \n",
        "        dist_pairs.append((i,j,dist,tseries[i][1], tseries[j][1])) "
      ],
      "execution_count": 47,
      "outputs": []
    },
    {
      "cell_type": "code",
      "metadata": {
        "id": "sgmGsg09Qa_6",
        "colab_type": "code",
        "colab": {}
      },
      "source": [
        "dist_frame = pd.DataFrame(dist_pairs, columns=['A','B','Dist', 'A Ret', 'B Ret']) \n",
        " \n",
        "sf = dist_frame[dist_frame['Dist']>0].sort_values(['A','B']).reset_index(drop=1) \n",
        " \n",
        "sfe = sf[sf['A']<sf['B']] "
      ],
      "execution_count": 49,
      "outputs": []
    },
    {
      "cell_type": "code",
      "metadata": {
        "id": "O6dO4M4fQcl8",
        "colab_type": "code",
        "colab": {
          "base_uri": "https://localhost:8080/",
          "height": 390
        },
        "outputId": "7ffc8119-d7d8-4910-f577-5e1f5062856a"
      },
      "source": [
        "winf = sfe[(sfe['Dist']<=1)&(sfe['A Ret']>0)] \n",
        " \n",
        "winf "
      ],
      "execution_count": 50,
      "outputs": [
        {
          "output_type": "execute_result",
          "data": {
            "text/html": [
              "<div>\n",
              "<style scoped>\n",
              "    .dataframe tbody tr th:only-of-type {\n",
              "        vertical-align: middle;\n",
              "    }\n",
              "\n",
              "    .dataframe tbody tr th {\n",
              "        vertical-align: top;\n",
              "    }\n",
              "\n",
              "    .dataframe thead th {\n",
              "        text-align: right;\n",
              "    }\n",
              "</style>\n",
              "<table border=\"1\" class=\"dataframe\">\n",
              "  <thead>\n",
              "    <tr style=\"text-align: right;\">\n",
              "      <th></th>\n",
              "      <th>A</th>\n",
              "      <th>B</th>\n",
              "      <th>Dist</th>\n",
              "      <th>A Ret</th>\n",
              "      <th>B Ret</th>\n",
              "    </tr>\n",
              "  </thead>\n",
              "  <tbody>\n",
              "    <tr>\n",
              "      <th>464</th>\n",
              "      <td>4</td>\n",
              "      <td>69</td>\n",
              "      <td>0.778630</td>\n",
              "      <td>1.360843</td>\n",
              "      <td>-1.696072</td>\n",
              "    </tr>\n",
              "    <tr>\n",
              "      <th>1610</th>\n",
              "      <td>16</td>\n",
              "      <td>27</td>\n",
              "      <td>0.849543</td>\n",
              "      <td>0.754885</td>\n",
              "      <td>-0.571308</td>\n",
              "    </tr>\n",
              "    <tr>\n",
              "      <th>2949</th>\n",
              "      <td>29</td>\n",
              "      <td>79</td>\n",
              "      <td>0.857039</td>\n",
              "      <td>1.195559</td>\n",
              "      <td>-0.546447</td>\n",
              "    </tr>\n",
              "    <tr>\n",
              "      <th>3037</th>\n",
              "      <td>30</td>\n",
              "      <td>68</td>\n",
              "      <td>0.713362</td>\n",
              "      <td>1.271995</td>\n",
              "      <td>2.357512</td>\n",
              "    </tr>\n",
              "    <tr>\n",
              "      <th>3042</th>\n",
              "      <td>30</td>\n",
              "      <td>73</td>\n",
              "      <td>0.950903</td>\n",
              "      <td>1.271995</td>\n",
              "      <td>1.135342</td>\n",
              "    </tr>\n",
              "    <tr>\n",
              "      <th>3246</th>\n",
              "      <td>32</td>\n",
              "      <td>79</td>\n",
              "      <td>0.984094</td>\n",
              "      <td>0.340909</td>\n",
              "      <td>-0.546447</td>\n",
              "    </tr>\n",
              "    <tr>\n",
              "      <th>4425</th>\n",
              "      <td>44</td>\n",
              "      <td>70</td>\n",
              "      <td>0.697951</td>\n",
              "      <td>0.510441</td>\n",
              "      <td>0.518750</td>\n",
              "    </tr>\n",
              "    <tr>\n",
              "      <th>5218</th>\n",
              "      <td>52</td>\n",
              "      <td>71</td>\n",
              "      <td>0.456561</td>\n",
              "      <td>0.664568</td>\n",
              "      <td>0.360134</td>\n",
              "    </tr>\n",
              "    <tr>\n",
              "      <th>6804</th>\n",
              "      <td>68</td>\n",
              "      <td>73</td>\n",
              "      <td>0.923870</td>\n",
              "      <td>2.357512</td>\n",
              "      <td>1.135342</td>\n",
              "    </tr>\n",
              "    <tr>\n",
              "      <th>7305</th>\n",
              "      <td>73</td>\n",
              "      <td>79</td>\n",
              "      <td>0.913535</td>\n",
              "      <td>1.135342</td>\n",
              "      <td>-0.546447</td>\n",
              "    </tr>\n",
              "    <tr>\n",
              "      <th>7307</th>\n",
              "      <td>73</td>\n",
              "      <td>81</td>\n",
              "      <td>0.877592</td>\n",
              "      <td>1.135342</td>\n",
              "      <td>-1.601350</td>\n",
              "    </tr>\n",
              "  </tbody>\n",
              "</table>\n",
              "</div>"
            ],
            "text/plain": [
              "       A   B      Dist     A Ret     B Ret\n",
              "464    4  69  0.778630  1.360843 -1.696072\n",
              "1610  16  27  0.849543  0.754885 -0.571308\n",
              "2949  29  79  0.857039  1.195559 -0.546447\n",
              "3037  30  68  0.713362  1.271995  2.357512\n",
              "3042  30  73  0.950903  1.271995  1.135342\n",
              "3246  32  79  0.984094  0.340909 -0.546447\n",
              "4425  44  70  0.697951  0.510441  0.518750\n",
              "5218  52  71  0.456561  0.664568  0.360134\n",
              "6804  68  73  0.923870  2.357512  1.135342\n",
              "7305  73  79  0.913535  1.135342 -0.546447\n",
              "7307  73  81  0.877592  1.135342 -1.601350"
            ]
          },
          "metadata": {
            "tags": []
          },
          "execution_count": 50
        }
      ]
    },
    {
      "cell_type": "code",
      "metadata": {
        "id": "661rX7IKQdGY",
        "colab_type": "code",
        "colab": {
          "base_uri": "https://localhost:8080/",
          "height": 268
        },
        "outputId": "d9289bba-8ee0-4776-8324-36ccaddfa167"
      },
      "source": [
        "plt.plot(np.arange(4), tseries[6][0]); "
      ],
      "execution_count": 51,
      "outputs": [
        {
          "output_type": "display_data",
          "data": {
            "image/png": "[encoded data removed]",
            "text/plain": [
              "<Figure size 432x288 with 1 Axes>"
            ]
          },
          "metadata": {
            "tags": [],
            "needs_background": "light"
          }
        }
      ]
    },
    {
      "cell_type": "code",
      "metadata": {
        "id": "niS5bKcEQepg",
        "colab_type": "code",
        "colab": {
          "base_uri": "https://localhost:8080/",
          "height": 285
        },
        "outputId": "66973f03-00f1-474e-c339-7a92d5bf21da"
      },
      "source": [
        "plt.plot(np.arange(4), tseries[598][0]) "
      ],
      "execution_count": 52,
      "outputs": [
        {
          "output_type": "execute_result",
          "data": {
            "text/plain": [
              "[<matplotlib.lines.Line2D at 0x7f6730e296d8>]"
            ]
          },
          "metadata": {
            "tags": []
          },
          "execution_count": 52
        },
        {
          "output_type": "display_data",
          "data": {
            "image/png": "[encoded data removed]",
            "text/plain": [
              "<Figure size 432x288 with 1 Axes>"
            ]
          },
          "metadata": {
            "tags": [],
            "needs_background": "light"
          }
        }
      ]
    },
    {
      "cell_type": "code",
      "metadata": {
        "id": "Sxq53VsxQf_K",
        "colab_type": "code",
        "colab": {}
      },
      "source": [
        ""
      ],
      "execution_count": null,
      "outputs": []
    },
    {
      "cell_type": "code",
      "metadata": {
        "id": "tK6nfYO-Qhfi",
        "colab_type": "code",
        "colab": {}
      },
      "source": [
        "EVALUATING\n"
      ],
      "execution_count": null,
      "outputs": []
    },
    {
      "cell_type": "code",
      "metadata": {
        "id": "5AtXGxTRQigw",
        "colab_type": "code",
        "colab": {}
      },
      "source": [
        "excluded = {} \n",
        "return_list = [] \n",
        "def get_returns(r): \n",
        "    if excluded.get(r['A']) is None: \n",
        "        return_list.append(r['B Ret']) \n",
        "        if r['B Ret'] < 0: \n",
        "            excluded.update({r['A']:1}) \n",
        " \n",
        "winf.apply(get_returns, axis=1); "
      ],
      "execution_count": 53,
      "outputs": []
    }
  ]
}