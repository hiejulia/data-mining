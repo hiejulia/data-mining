{
  "nbformat": 4,
  "nbformat_minor": 0,
  "metadata": {
    "colab": {
      "name": "FinancialClusteringInvestors.ipynb",
      "provenance": [],
      "collapsed_sections": []
    },
    "kernelspec": {
      "name": "python3",
      "display_name": "Python 3"
    }
  },
  "cells": [
    {
      "cell_type": "code",
      "metadata": {
        "id": "edA3HKY_QIRK",
        "colab_type": "code",
        "colab": {}
      },
      "source": [
        "# Load libraries\n",
        "import numpy as np\n",
        "import pandas as pd\n",
        "import matplotlib.pyplot as plt\n",
        "from pandas import read_csv, set_option\n",
        "from pandas.plotting import scatter_matrix\n",
        "import seaborn as sns\n",
        "from sklearn.preprocessing import StandardScaler\n",
        "import datetime\n",
        "\n",
        "#Import Model Packages \n",
        "from sklearn.cluster import KMeans, AgglomerativeClustering,AffinityPropagation\n",
        "from sklearn.metrics import adjusted_mutual_info_score\n",
        "from sklearn import cluster, covariance, manifold\n",
        "\n",
        "\n",
        "#Other Helper Packages and functions\n",
        "import matplotlib.ticker as ticker\n",
        "from itertools import cycle\n",
        "\n",
        "#Diable the warnings\n",
        "import warnings\n",
        "warnings.filterwarnings('ignore')"
      ],
      "execution_count": 75,
      "outputs": []
    },
    {
      "cell_type": "code",
      "metadata": {
        "id": "iKyWGbSPXTdr",
        "colab_type": "code",
        "colab": {}
      },
      "source": [
        "import pkg_resources\n",
        "import pip\n",
        "installedPackages = {pkg.key for pkg in pkg_resources.working_set}\n",
        "if 'cvxopt' not in installedPackages :\n",
        "    !pip install cvxopt==1.2.5"
      ],
      "execution_count": 72,
      "outputs": []
    },
    {
      "cell_type": "markdown",
      "metadata": {
        "id": "Hq2KLl-OQhs_",
        "colab_type": "text"
      },
      "source": [
        "TEMPLATE FOR IMPLEMENT AND WORK ON SEVERAL CLUSTERING TECHNIQUES\n",
        "\n",
        "K-means\n",
        "Hierarchical Clustering (Agglomerative Clustering)\n",
        "Affinity Propagation\n"
      ]
    },
    {
      "cell_type": "code",
      "metadata": {
        "id": "kWpLR522Qh7-",
        "colab_type": "code",
        "colab": {
          "base_uri": "https://localhost:8080/",
          "height": 54
        },
        "outputId": "93950e73-9024-4989-d371-b2440f8ce4b5"
      },
      "source": [
        "# load dataset\n",
        "# Load the Drive helper and mount\n",
        "from google.colab import drive\n",
        "\n",
        "# This will prompt for authorization.\n",
        "drive.mount('/content/drive')\n"
      ],
      "execution_count": 45,
      "outputs": [
        {
          "output_type": "stream",
          "text": [
            "Drive already mounted at /content/drive; to attempt to forcibly remount, call drive.mount(\"/content/drive\", force_remount=True).\n"
          ],
          "name": "stdout"
        }
      ]
    },
    {
      "cell_type": "code",
      "metadata": {
        "id": "qKSsTAHwQh-L",
        "colab_type": "code",
        "colab": {}
      },
      "source": [
        "dataset = pd.read_excel('/content/drive/My Drive/ProcessedData.xlsx')"
      ],
      "execution_count": 73,
      "outputs": []
    },
    {
      "cell_type": "code",
      "metadata": {
        "id": "trklPh-OWZNT",
        "colab_type": "code",
        "colab": {
          "base_uri": "https://localhost:8080/",
          "height": 419
        },
        "outputId": "a394d3ed-4661-4744-a3ba-4dee616b4539"
      },
      "source": [
        "dataset"
      ],
      "execution_count": 74,
      "outputs": [
        {
          "output_type": "execute_result",
          "data": {
            "text/html": [
              "<div>\n",
              "<style scoped>\n",
              "    .dataframe tbody tr th:only-of-type {\n",
              "        vertical-align: middle;\n",
              "    }\n",
              "\n",
              "    .dataframe tbody tr th {\n",
              "        vertical-align: top;\n",
              "    }\n",
              "\n",
              "    .dataframe thead th {\n",
              "        text-align: right;\n",
              "    }\n",
              "</style>\n",
              "<table border=\"1\" class=\"dataframe\">\n",
              "  <thead>\n",
              "    <tr style=\"text-align: right;\">\n",
              "      <th></th>\n",
              "      <th>ID</th>\n",
              "      <th>AGE</th>\n",
              "      <th>EDUC</th>\n",
              "      <th>MARRIED</th>\n",
              "      <th>KIDS</th>\n",
              "      <th>LIFECL</th>\n",
              "      <th>OCCAT</th>\n",
              "      <th>RISK</th>\n",
              "      <th>HHOUSES</th>\n",
              "      <th>WSAVED</th>\n",
              "      <th>SPENDMOR</th>\n",
              "      <th>NWCAT</th>\n",
              "      <th>INCCL</th>\n",
              "    </tr>\n",
              "  </thead>\n",
              "  <tbody>\n",
              "    <tr>\n",
              "      <th>0</th>\n",
              "      <td>1</td>\n",
              "      <td>3</td>\n",
              "      <td>2</td>\n",
              "      <td>1</td>\n",
              "      <td>0</td>\n",
              "      <td>2</td>\n",
              "      <td>1</td>\n",
              "      <td>3</td>\n",
              "      <td>1</td>\n",
              "      <td>1</td>\n",
              "      <td>5</td>\n",
              "      <td>3</td>\n",
              "      <td>4</td>\n",
              "    </tr>\n",
              "    <tr>\n",
              "      <th>1</th>\n",
              "      <td>2</td>\n",
              "      <td>4</td>\n",
              "      <td>4</td>\n",
              "      <td>1</td>\n",
              "      <td>2</td>\n",
              "      <td>5</td>\n",
              "      <td>2</td>\n",
              "      <td>3</td>\n",
              "      <td>0</td>\n",
              "      <td>2</td>\n",
              "      <td>5</td>\n",
              "      <td>5</td>\n",
              "      <td>5</td>\n",
              "    </tr>\n",
              "    <tr>\n",
              "      <th>2</th>\n",
              "      <td>3</td>\n",
              "      <td>3</td>\n",
              "      <td>1</td>\n",
              "      <td>1</td>\n",
              "      <td>2</td>\n",
              "      <td>3</td>\n",
              "      <td>2</td>\n",
              "      <td>2</td>\n",
              "      <td>1</td>\n",
              "      <td>2</td>\n",
              "      <td>4</td>\n",
              "      <td>4</td>\n",
              "      <td>4</td>\n",
              "    </tr>\n",
              "    <tr>\n",
              "      <th>3</th>\n",
              "      <td>4</td>\n",
              "      <td>3</td>\n",
              "      <td>1</td>\n",
              "      <td>1</td>\n",
              "      <td>2</td>\n",
              "      <td>3</td>\n",
              "      <td>2</td>\n",
              "      <td>2</td>\n",
              "      <td>1</td>\n",
              "      <td>2</td>\n",
              "      <td>4</td>\n",
              "      <td>3</td>\n",
              "      <td>4</td>\n",
              "    </tr>\n",
              "    <tr>\n",
              "      <th>4</th>\n",
              "      <td>5</td>\n",
              "      <td>4</td>\n",
              "      <td>3</td>\n",
              "      <td>1</td>\n",
              "      <td>1</td>\n",
              "      <td>5</td>\n",
              "      <td>1</td>\n",
              "      <td>2</td>\n",
              "      <td>1</td>\n",
              "      <td>3</td>\n",
              "      <td>3</td>\n",
              "      <td>5</td>\n",
              "      <td>5</td>\n",
              "    </tr>\n",
              "    <tr>\n",
              "      <th>...</th>\n",
              "      <td>...</td>\n",
              "      <td>...</td>\n",
              "      <td>...</td>\n",
              "      <td>...</td>\n",
              "      <td>...</td>\n",
              "      <td>...</td>\n",
              "      <td>...</td>\n",
              "      <td>...</td>\n",
              "      <td>...</td>\n",
              "      <td>...</td>\n",
              "      <td>...</td>\n",
              "      <td>...</td>\n",
              "      <td>...</td>\n",
              "    </tr>\n",
              "    <tr>\n",
              "      <th>3861</th>\n",
              "      <td>3862</td>\n",
              "      <td>3</td>\n",
              "      <td>1</td>\n",
              "      <td>1</td>\n",
              "      <td>1</td>\n",
              "      <td>3</td>\n",
              "      <td>1</td>\n",
              "      <td>4</td>\n",
              "      <td>0</td>\n",
              "      <td>2</td>\n",
              "      <td>3</td>\n",
              "      <td>1</td>\n",
              "      <td>3</td>\n",
              "    </tr>\n",
              "    <tr>\n",
              "      <th>3862</th>\n",
              "      <td>3863</td>\n",
              "      <td>3</td>\n",
              "      <td>1</td>\n",
              "      <td>1</td>\n",
              "      <td>1</td>\n",
              "      <td>3</td>\n",
              "      <td>1</td>\n",
              "      <td>4</td>\n",
              "      <td>0</td>\n",
              "      <td>2</td>\n",
              "      <td>3</td>\n",
              "      <td>1</td>\n",
              "      <td>4</td>\n",
              "    </tr>\n",
              "    <tr>\n",
              "      <th>3863</th>\n",
              "      <td>3864</td>\n",
              "      <td>5</td>\n",
              "      <td>1</td>\n",
              "      <td>1</td>\n",
              "      <td>0</td>\n",
              "      <td>5</td>\n",
              "      <td>1</td>\n",
              "      <td>4</td>\n",
              "      <td>0</td>\n",
              "      <td>3</td>\n",
              "      <td>5</td>\n",
              "      <td>1</td>\n",
              "      <td>4</td>\n",
              "    </tr>\n",
              "    <tr>\n",
              "      <th>3864</th>\n",
              "      <td>3865</td>\n",
              "      <td>2</td>\n",
              "      <td>4</td>\n",
              "      <td>1</td>\n",
              "      <td>7</td>\n",
              "      <td>3</td>\n",
              "      <td>1</td>\n",
              "      <td>3</td>\n",
              "      <td>1</td>\n",
              "      <td>3</td>\n",
              "      <td>2</td>\n",
              "      <td>5</td>\n",
              "      <td>5</td>\n",
              "    </tr>\n",
              "    <tr>\n",
              "      <th>3865</th>\n",
              "      <td>3866</td>\n",
              "      <td>3</td>\n",
              "      <td>4</td>\n",
              "      <td>2</td>\n",
              "      <td>0</td>\n",
              "      <td>1</td>\n",
              "      <td>2</td>\n",
              "      <td>2</td>\n",
              "      <td>1</td>\n",
              "      <td>2</td>\n",
              "      <td>5</td>\n",
              "      <td>4</td>\n",
              "      <td>4</td>\n",
              "    </tr>\n",
              "  </tbody>\n",
              "</table>\n",
              "<p>3866 rows × 13 columns</p>\n",
              "</div>"
            ],
            "text/plain": [
              "        ID  AGE  EDUC  MARRIED  KIDS  ...  HHOUSES  WSAVED  SPENDMOR  NWCAT  INCCL\n",
              "0        1    3     2        1     0  ...        1       1         5      3      4\n",
              "1        2    4     4        1     2  ...        0       2         5      5      5\n",
              "2        3    3     1        1     2  ...        1       2         4      4      4\n",
              "3        4    3     1        1     2  ...        1       2         4      3      4\n",
              "4        5    4     3        1     1  ...        1       3         3      5      5\n",
              "...    ...  ...   ...      ...   ...  ...      ...     ...       ...    ...    ...\n",
              "3861  3862    3     1        1     1  ...        0       2         3      1      3\n",
              "3862  3863    3     1        1     1  ...        0       2         3      1      4\n",
              "3863  3864    5     1        1     0  ...        0       3         5      1      4\n",
              "3864  3865    2     4        1     7  ...        1       3         2      5      5\n",
              "3865  3866    3     4        2     0  ...        1       2         5      4      4\n",
              "\n",
              "[3866 rows x 13 columns]"
            ]
          },
          "metadata": {
            "tags": []
          },
          "execution_count": 74
        }
      ]
    },
    {
      "cell_type": "code",
      "metadata": {
        "id": "ZEx37YVYWZPK",
        "colab_type": "code",
        "colab": {
          "base_uri": "https://localhost:8080/",
          "height": 34
        },
        "outputId": "59af27e8-9c3c-405d-edd4-8af2b21bf88b"
      },
      "source": [
        "# Descriptive Statistics\n",
        "dataset.shape"
      ],
      "execution_count": 76,
      "outputs": [
        {
          "output_type": "execute_result",
          "data": {
            "text/plain": [
              "(3866, 13)"
            ]
          },
          "metadata": {
            "tags": []
          },
          "execution_count": 76
        }
      ]
    },
    {
      "cell_type": "code",
      "metadata": {
        "id": "iiF-TzcgWEbw",
        "colab_type": "code",
        "colab": {
          "base_uri": "https://localhost:8080/",
          "height": 204
        },
        "outputId": "6db98a17-7b7e-4ee4-9c49-06c6c763b7ae"
      },
      "source": [
        "#Data Preparation\n",
        "set_option('display.width', 100)\n",
        "dataset.head(5)"
      ],
      "execution_count": 77,
      "outputs": [
        {
          "output_type": "execute_result",
          "data": {
            "text/html": [
              "<div>\n",
              "<style scoped>\n",
              "    .dataframe tbody tr th:only-of-type {\n",
              "        vertical-align: middle;\n",
              "    }\n",
              "\n",
              "    .dataframe tbody tr th {\n",
              "        vertical-align: top;\n",
              "    }\n",
              "\n",
              "    .dataframe thead th {\n",
              "        text-align: right;\n",
              "    }\n",
              "</style>\n",
              "<table border=\"1\" class=\"dataframe\">\n",
              "  <thead>\n",
              "    <tr style=\"text-align: right;\">\n",
              "      <th></th>\n",
              "      <th>ID</th>\n",
              "      <th>AGE</th>\n",
              "      <th>EDUC</th>\n",
              "      <th>MARRIED</th>\n",
              "      <th>KIDS</th>\n",
              "      <th>LIFECL</th>\n",
              "      <th>OCCAT</th>\n",
              "      <th>RISK</th>\n",
              "      <th>HHOUSES</th>\n",
              "      <th>WSAVED</th>\n",
              "      <th>SPENDMOR</th>\n",
              "      <th>NWCAT</th>\n",
              "      <th>INCCL</th>\n",
              "    </tr>\n",
              "  </thead>\n",
              "  <tbody>\n",
              "    <tr>\n",
              "      <th>0</th>\n",
              "      <td>1</td>\n",
              "      <td>3</td>\n",
              "      <td>2</td>\n",
              "      <td>1</td>\n",
              "      <td>0</td>\n",
              "      <td>2</td>\n",
              "      <td>1</td>\n",
              "      <td>3</td>\n",
              "      <td>1</td>\n",
              "      <td>1</td>\n",
              "      <td>5</td>\n",
              "      <td>3</td>\n",
              "      <td>4</td>\n",
              "    </tr>\n",
              "    <tr>\n",
              "      <th>1</th>\n",
              "      <td>2</td>\n",
              "      <td>4</td>\n",
              "      <td>4</td>\n",
              "      <td>1</td>\n",
              "      <td>2</td>\n",
              "      <td>5</td>\n",
              "      <td>2</td>\n",
              "      <td>3</td>\n",
              "      <td>0</td>\n",
              "      <td>2</td>\n",
              "      <td>5</td>\n",
              "      <td>5</td>\n",
              "      <td>5</td>\n",
              "    </tr>\n",
              "    <tr>\n",
              "      <th>2</th>\n",
              "      <td>3</td>\n",
              "      <td>3</td>\n",
              "      <td>1</td>\n",
              "      <td>1</td>\n",
              "      <td>2</td>\n",
              "      <td>3</td>\n",
              "      <td>2</td>\n",
              "      <td>2</td>\n",
              "      <td>1</td>\n",
              "      <td>2</td>\n",
              "      <td>4</td>\n",
              "      <td>4</td>\n",
              "      <td>4</td>\n",
              "    </tr>\n",
              "    <tr>\n",
              "      <th>3</th>\n",
              "      <td>4</td>\n",
              "      <td>3</td>\n",
              "      <td>1</td>\n",
              "      <td>1</td>\n",
              "      <td>2</td>\n",
              "      <td>3</td>\n",
              "      <td>2</td>\n",
              "      <td>2</td>\n",
              "      <td>1</td>\n",
              "      <td>2</td>\n",
              "      <td>4</td>\n",
              "      <td>3</td>\n",
              "      <td>4</td>\n",
              "    </tr>\n",
              "    <tr>\n",
              "      <th>4</th>\n",
              "      <td>5</td>\n",
              "      <td>4</td>\n",
              "      <td>3</td>\n",
              "      <td>1</td>\n",
              "      <td>1</td>\n",
              "      <td>5</td>\n",
              "      <td>1</td>\n",
              "      <td>2</td>\n",
              "      <td>1</td>\n",
              "      <td>3</td>\n",
              "      <td>3</td>\n",
              "      <td>5</td>\n",
              "      <td>5</td>\n",
              "    </tr>\n",
              "  </tbody>\n",
              "</table>\n",
              "</div>"
            ],
            "text/plain": [
              "   ID  AGE  EDUC  MARRIED  KIDS  ...  HHOUSES  WSAVED  SPENDMOR  NWCAT  INCCL\n",
              "0   1    3     2        1     0  ...        1       1         5      3      4\n",
              "1   2    4     4        1     2  ...        0       2         5      5      5\n",
              "2   3    3     1        1     2  ...        1       2         4      4      4\n",
              "3   4    3     1        1     2  ...        1       2         4      3      4\n",
              "4   5    4     3        1     1  ...        1       3         3      5      5\n",
              "\n",
              "[5 rows x 13 columns]"
            ]
          },
          "metadata": {
            "tags": []
          },
          "execution_count": 77
        }
      ]
    },
    {
      "cell_type": "code",
      "metadata": {
        "id": "Trky-ddqaWX9",
        "colab_type": "code",
        "colab": {
          "base_uri": "https://localhost:8080/",
          "height": 297
        },
        "outputId": "0a04a75e-3421-48b2-cce2-3a53d96bb1cf"
      },
      "source": [
        "# describe data\n",
        "set_option('precision', 3)\n",
        "dataset.describe()"
      ],
      "execution_count": 78,
      "outputs": [
        {
          "output_type": "execute_result",
          "data": {
            "text/html": [
              "<div>\n",
              "<style scoped>\n",
              "    .dataframe tbody tr th:only-of-type {\n",
              "        vertical-align: middle;\n",
              "    }\n",
              "\n",
              "    .dataframe tbody tr th {\n",
              "        vertical-align: top;\n",
              "    }\n",
              "\n",
              "    .dataframe thead th {\n",
              "        text-align: right;\n",
              "    }\n",
              "</style>\n",
              "<table border=\"1\" class=\"dataframe\">\n",
              "  <thead>\n",
              "    <tr style=\"text-align: right;\">\n",
              "      <th></th>\n",
              "      <th>ID</th>\n",
              "      <th>AGE</th>\n",
              "      <th>EDUC</th>\n",
              "      <th>MARRIED</th>\n",
              "      <th>KIDS</th>\n",
              "      <th>LIFECL</th>\n",
              "      <th>OCCAT</th>\n",
              "      <th>RISK</th>\n",
              "      <th>HHOUSES</th>\n",
              "      <th>WSAVED</th>\n",
              "      <th>SPENDMOR</th>\n",
              "      <th>NWCAT</th>\n",
              "      <th>INCCL</th>\n",
              "    </tr>\n",
              "  </thead>\n",
              "  <tbody>\n",
              "    <tr>\n",
              "      <th>count</th>\n",
              "      <td>3866.000</td>\n",
              "      <td>3866.000</td>\n",
              "      <td>3866.000</td>\n",
              "      <td>3866.000</td>\n",
              "      <td>3866.000</td>\n",
              "      <td>3866.000</td>\n",
              "      <td>3866.000</td>\n",
              "      <td>3866.000</td>\n",
              "      <td>3866.000</td>\n",
              "      <td>3866.000</td>\n",
              "      <td>3866.000</td>\n",
              "      <td>3866.000</td>\n",
              "      <td>3866.000</td>\n",
              "    </tr>\n",
              "    <tr>\n",
              "      <th>mean</th>\n",
              "      <td>1933.500</td>\n",
              "      <td>3.107</td>\n",
              "      <td>2.906</td>\n",
              "      <td>1.353</td>\n",
              "      <td>0.938</td>\n",
              "      <td>3.697</td>\n",
              "      <td>1.742</td>\n",
              "      <td>3.043</td>\n",
              "      <td>0.717</td>\n",
              "      <td>2.446</td>\n",
              "      <td>3.561</td>\n",
              "      <td>2.976</td>\n",
              "      <td>3.671</td>\n",
              "    </tr>\n",
              "    <tr>\n",
              "      <th>std</th>\n",
              "      <td>1116.162</td>\n",
              "      <td>1.513</td>\n",
              "      <td>1.066</td>\n",
              "      <td>0.478</td>\n",
              "      <td>1.249</td>\n",
              "      <td>1.618</td>\n",
              "      <td>0.934</td>\n",
              "      <td>0.879</td>\n",
              "      <td>0.451</td>\n",
              "      <td>0.743</td>\n",
              "      <td>1.304</td>\n",
              "      <td>1.463</td>\n",
              "      <td>1.184</td>\n",
              "    </tr>\n",
              "    <tr>\n",
              "      <th>min</th>\n",
              "      <td>1.000</td>\n",
              "      <td>1.000</td>\n",
              "      <td>1.000</td>\n",
              "      <td>1.000</td>\n",
              "      <td>0.000</td>\n",
              "      <td>1.000</td>\n",
              "      <td>1.000</td>\n",
              "      <td>1.000</td>\n",
              "      <td>0.000</td>\n",
              "      <td>1.000</td>\n",
              "      <td>1.000</td>\n",
              "      <td>1.000</td>\n",
              "      <td>1.000</td>\n",
              "    </tr>\n",
              "    <tr>\n",
              "      <th>25%</th>\n",
              "      <td>967.250</td>\n",
              "      <td>2.000</td>\n",
              "      <td>2.000</td>\n",
              "      <td>1.000</td>\n",
              "      <td>0.000</td>\n",
              "      <td>3.000</td>\n",
              "      <td>1.000</td>\n",
              "      <td>2.000</td>\n",
              "      <td>0.000</td>\n",
              "      <td>2.000</td>\n",
              "      <td>2.000</td>\n",
              "      <td>2.000</td>\n",
              "      <td>3.000</td>\n",
              "    </tr>\n",
              "    <tr>\n",
              "      <th>50%</th>\n",
              "      <td>1933.500</td>\n",
              "      <td>3.000</td>\n",
              "      <td>3.000</td>\n",
              "      <td>1.000</td>\n",
              "      <td>0.000</td>\n",
              "      <td>3.000</td>\n",
              "      <td>1.000</td>\n",
              "      <td>3.000</td>\n",
              "      <td>1.000</td>\n",
              "      <td>3.000</td>\n",
              "      <td>4.000</td>\n",
              "      <td>3.000</td>\n",
              "      <td>4.000</td>\n",
              "    </tr>\n",
              "    <tr>\n",
              "      <th>75%</th>\n",
              "      <td>2899.750</td>\n",
              "      <td>4.000</td>\n",
              "      <td>4.000</td>\n",
              "      <td>2.000</td>\n",
              "      <td>2.000</td>\n",
              "      <td>5.000</td>\n",
              "      <td>3.000</td>\n",
              "      <td>4.000</td>\n",
              "      <td>1.000</td>\n",
              "      <td>3.000</td>\n",
              "      <td>5.000</td>\n",
              "      <td>4.000</td>\n",
              "      <td>5.000</td>\n",
              "    </tr>\n",
              "    <tr>\n",
              "      <th>max</th>\n",
              "      <td>3866.000</td>\n",
              "      <td>6.000</td>\n",
              "      <td>4.000</td>\n",
              "      <td>2.000</td>\n",
              "      <td>8.000</td>\n",
              "      <td>6.000</td>\n",
              "      <td>4.000</td>\n",
              "      <td>4.000</td>\n",
              "      <td>1.000</td>\n",
              "      <td>3.000</td>\n",
              "      <td>5.000</td>\n",
              "      <td>5.000</td>\n",
              "      <td>5.000</td>\n",
              "    </tr>\n",
              "  </tbody>\n",
              "</table>\n",
              "</div>"
            ],
            "text/plain": [
              "             ID       AGE      EDUC  ...  SPENDMOR     NWCAT     INCCL\n",
              "count  3866.000  3866.000  3866.000  ...  3866.000  3866.000  3866.000\n",
              "mean   1933.500     3.107     2.906  ...     3.561     2.976     3.671\n",
              "std    1116.162     1.513     1.066  ...     1.304     1.463     1.184\n",
              "min       1.000     1.000     1.000  ...     1.000     1.000     1.000\n",
              "25%     967.250     2.000     2.000  ...     2.000     2.000     3.000\n",
              "50%    1933.500     3.000     3.000  ...     4.000     3.000     4.000\n",
              "75%    2899.750     4.000     4.000  ...     5.000     4.000     5.000\n",
              "max    3866.000     6.000     4.000  ...     5.000     5.000     5.000\n",
              "\n",
              "[8 rows x 13 columns]"
            ]
          },
          "metadata": {
            "tags": []
          },
          "execution_count": 78
        }
      ]
    },
    {
      "cell_type": "code",
      "metadata": {
        "id": "31bLLrXYaWZ_",
        "colab_type": "code",
        "colab": {}
      },
      "source": [
        "#  Data Visualization"
      ],
      "execution_count": 79,
      "outputs": []
    },
    {
      "cell_type": "code",
      "metadata": {
        "id": "es4ryqSYaWb4",
        "colab_type": "code",
        "colab": {
          "base_uri": "https://localhost:8080/",
          "height": 1000
        },
        "outputId": "77d5e345-c2e6-4091-b870-9d15c9550e6c"
      },
      "source": [
        "# correlation matrix\n",
        "correlation = dataset.corr()\n",
        "plt.figure(figsize=(30,30))\n",
        "plt.title('Correlation Matrix')\n",
        "sns.heatmap(correlation, vmax=1, square=True,annot=True,cmap='cubehelix')"
      ],
      "execution_count": 80,
      "outputs": [
        {
          "output_type": "execute_result",
          "data": {
            "text/plain": [
              "<matplotlib.axes._subplots.AxesSubplot at 0x7fcca9517cf8>"
            ]
          },
          "metadata": {
            "tags": []
          },
          "execution_count": 80
        },
        {
          "output_type": "display_data",
          "data": {
            "image/png": "[encoded data removed]",
            "text/plain": [
              "<Figure size 2160x2160 with 2 Axes>"
            ]
          },
          "metadata": {
            "tags": [],
            "needs_background": "light"
          }
        }
      ]
    },
    {
      "cell_type": "code",
      "metadata": {
        "id": "ftzWaGYSaWdx",
        "colab_type": "code",
        "colab": {
          "base_uri": "https://localhost:8080/",
          "height": 34
        },
        "outputId": "ebe437ae-d34e-478d-9c11-7656e27242dc"
      },
      "source": [
        "# Data Preparation\n",
        "print('Null Values =',dataset.isnull().values.any())"
      ],
      "execution_count": 81,
      "outputs": [
        {
          "output_type": "stream",
          "text": [
            "Null Values = False\n"
          ],
          "name": "stdout"
        }
      ]
    },
    {
      "cell_type": "code",
      "metadata": {
        "id": "E-xdnA7NaWfn",
        "colab_type": "code",
        "colab": {
          "base_uri": "https://localhost:8080/",
          "height": 204
        },
        "outputId": "6b95691a-2f31-40c0-b6d4-6c17017f73b7"
      },
      "source": [
        "X=dataset.copy(\"deep\")\n",
        "X=X.drop(['ID'], axis=1)\n",
        "X.head()"
      ],
      "execution_count": 82,
      "outputs": [
        {
          "output_type": "execute_result",
          "data": {
            "text/html": [
              "<div>\n",
              "<style scoped>\n",
              "    .dataframe tbody tr th:only-of-type {\n",
              "        vertical-align: middle;\n",
              "    }\n",
              "\n",
              "    .dataframe tbody tr th {\n",
              "        vertical-align: top;\n",
              "    }\n",
              "\n",
              "    .dataframe thead th {\n",
              "        text-align: right;\n",
              "    }\n",
              "</style>\n",
              "<table border=\"1\" class=\"dataframe\">\n",
              "  <thead>\n",
              "    <tr style=\"text-align: right;\">\n",
              "      <th></th>\n",
              "      <th>AGE</th>\n",
              "      <th>EDUC</th>\n",
              "      <th>MARRIED</th>\n",
              "      <th>KIDS</th>\n",
              "      <th>LIFECL</th>\n",
              "      <th>OCCAT</th>\n",
              "      <th>RISK</th>\n",
              "      <th>HHOUSES</th>\n",
              "      <th>WSAVED</th>\n",
              "      <th>SPENDMOR</th>\n",
              "      <th>NWCAT</th>\n",
              "      <th>INCCL</th>\n",
              "    </tr>\n",
              "  </thead>\n",
              "  <tbody>\n",
              "    <tr>\n",
              "      <th>0</th>\n",
              "      <td>3</td>\n",
              "      <td>2</td>\n",
              "      <td>1</td>\n",
              "      <td>0</td>\n",
              "      <td>2</td>\n",
              "      <td>1</td>\n",
              "      <td>3</td>\n",
              "      <td>1</td>\n",
              "      <td>1</td>\n",
              "      <td>5</td>\n",
              "      <td>3</td>\n",
              "      <td>4</td>\n",
              "    </tr>\n",
              "    <tr>\n",
              "      <th>1</th>\n",
              "      <td>4</td>\n",
              "      <td>4</td>\n",
              "      <td>1</td>\n",
              "      <td>2</td>\n",
              "      <td>5</td>\n",
              "      <td>2</td>\n",
              "      <td>3</td>\n",
              "      <td>0</td>\n",
              "      <td>2</td>\n",
              "      <td>5</td>\n",
              "      <td>5</td>\n",
              "      <td>5</td>\n",
              "    </tr>\n",
              "    <tr>\n",
              "      <th>2</th>\n",
              "      <td>3</td>\n",
              "      <td>1</td>\n",
              "      <td>1</td>\n",
              "      <td>2</td>\n",
              "      <td>3</td>\n",
              "      <td>2</td>\n",
              "      <td>2</td>\n",
              "      <td>1</td>\n",
              "      <td>2</td>\n",
              "      <td>4</td>\n",
              "      <td>4</td>\n",
              "      <td>4</td>\n",
              "    </tr>\n",
              "    <tr>\n",
              "      <th>3</th>\n",
              "      <td>3</td>\n",
              "      <td>1</td>\n",
              "      <td>1</td>\n",
              "      <td>2</td>\n",
              "      <td>3</td>\n",
              "      <td>2</td>\n",
              "      <td>2</td>\n",
              "      <td>1</td>\n",
              "      <td>2</td>\n",
              "      <td>4</td>\n",
              "      <td>3</td>\n",
              "      <td>4</td>\n",
              "    </tr>\n",
              "    <tr>\n",
              "      <th>4</th>\n",
              "      <td>4</td>\n",
              "      <td>3</td>\n",
              "      <td>1</td>\n",
              "      <td>1</td>\n",
              "      <td>5</td>\n",
              "      <td>1</td>\n",
              "      <td>2</td>\n",
              "      <td>1</td>\n",
              "      <td>3</td>\n",
              "      <td>3</td>\n",
              "      <td>5</td>\n",
              "      <td>5</td>\n",
              "    </tr>\n",
              "  </tbody>\n",
              "</table>\n",
              "</div>"
            ],
            "text/plain": [
              "   AGE  EDUC  MARRIED  KIDS  LIFECL  ...  HHOUSES  WSAVED  SPENDMOR  NWCAT  INCCL\n",
              "0    3     2        1     0       2  ...        1       1         5      3      4\n",
              "1    4     4        1     2       5  ...        0       2         5      5      5\n",
              "2    3     1        1     2       3  ...        1       2         4      4      4\n",
              "3    3     1        1     2       3  ...        1       2         4      3      4\n",
              "4    4     3        1     1       5  ...        1       3         3      5      5\n",
              "\n",
              "[5 rows x 12 columns]"
            ]
          },
          "metadata": {
            "tags": []
          },
          "execution_count": 82
        }
      ]
    },
    {
      "cell_type": "code",
      "metadata": {
        "id": "ILa6NcBgaWhh",
        "colab_type": "code",
        "colab": {}
      },
      "source": [
        "# Data Transformation"
      ],
      "execution_count": null,
      "outputs": []
    },
    {
      "cell_type": "code",
      "metadata": {
        "id": "Lm44XuVlaWkE",
        "colab_type": "code",
        "colab": {}
      },
      "source": [
        "# Evaluate Algorithms and Models\n",
        "K-means\n",
        "Affinity Propagation \n"
      ],
      "execution_count": null,
      "outputs": []
    },
    {
      "cell_type": "code",
      "metadata": {
        "id": "gnT_4HelaWlu",
        "colab_type": "code",
        "colab": {}
      },
      "source": [
        "# K-Means Clustering\n",
        "Sum of square errors (SSE) within clusters\n",
        "Silhouette score"
      ],
      "execution_count": null,
      "outputs": []
    },
    {
      "cell_type": "code",
      "metadata": {
        "id": "XtvKvkyyaWnW",
        "colab_type": "code",
        "colab": {
          "base_uri": "https://localhost:8080/",
          "height": 339
        },
        "outputId": "b0b1076c-345b-4523-809a-e4b4508519ab"
      },
      "source": [
        "distorsions = []\n",
        "max_loop=40\n",
        "for k in range(2, max_loop):\n",
        "    k_means = KMeans(n_clusters=k)\n",
        "    k_means.fit(X)\n",
        "    distorsions.append(k_means.inertia_)\n",
        "fig = plt.figure(figsize=(10, 5))\n",
        "plt.plot(range(2, max_loop), distorsions)\n",
        "plt.xticks([i for i in range(2, max_loop)], rotation=75)\n",
        "plt.xlabel(\"Number of clusters\")\n",
        "plt.ylabel(\"Sum of Square Error\")\n",
        "plt.grid(True)"
      ],
      "execution_count": 83,
      "outputs": [
        {
          "output_type": "display_data",
          "data": {
            "image/png": "[encoded data removed]",
            "text/plain": [
              "<Figure size 720x360 with 1 Axes>"
            ]
          },
          "metadata": {
            "tags": [],
            "needs_background": "light"
          }
        }
      ]
    },
    {
      "cell_type": "code",
      "metadata": {
        "id": "QA-96aQyaWos",
        "colab_type": "code",
        "colab": {
          "base_uri": "https://localhost:8080/",
          "height": 341
        },
        "outputId": "b0c74480-ad5b-4c0d-c28e-c4b51a9ac549"
      },
      "source": [
        "# sihouette score\n",
        "from sklearn import metrics\n",
        "\n",
        "silhouette_score = []\n",
        "for k in range(2, max_loop):\n",
        "        kmeans = KMeans(n_clusters=k,  random_state=10, n_init=10, n_jobs=-1)\n",
        "        kmeans.fit(X)        \n",
        "        silhouette_score.append(metrics.silhouette_score(X, kmeans.labels_, random_state=10))\n",
        "fig = plt.figure(figsize=(10, 5))\n",
        "plt.plot(range(2, max_loop), silhouette_score)\n",
        "plt.xticks([i for i in range(2, max_loop)], rotation=75)\n",
        "plt.xlabel(\"Number of clusters\")\n",
        "plt.ylabel(\"Silhouette score\")\n",
        "plt.grid(True)\n"
      ],
      "execution_count": 84,
      "outputs": [
        {
          "output_type": "display_data",
          "data": {
            "image/png": "[encoded data removed]",
            "text/plain": [
              "<Figure size 720x360 with 1 Axes>"
            ]
          },
          "metadata": {
            "tags": [],
            "needs_background": "light"
          }
        }
      ]
    },
    {
      "cell_type": "code",
      "metadata": {
        "id": "1DGQrWmjaWs4",
        "colab_type": "code",
        "colab": {
          "base_uri": "https://localhost:8080/",
          "height": 68
        },
        "outputId": "2d968163-3cd7-4aa4-8265-db58ec179996"
      },
      "source": [
        "nclust=7\n",
        "\n",
        "k_means = cluster.KMeans(n_clusters=nclust)\n",
        "k_means.fit(X)"
      ],
      "execution_count": 85,
      "outputs": [
        {
          "output_type": "execute_result",
          "data": {
            "text/plain": [
              "KMeans(algorithm='auto', copy_x=True, init='k-means++', max_iter=300,\n",
              "       n_clusters=7, n_init=10, n_jobs=None, precompute_distances='auto',\n",
              "       random_state=None, tol=0.0001, verbose=0)"
            ]
          },
          "metadata": {
            "tags": []
          },
          "execution_count": 85
        }
      ]
    },
    {
      "cell_type": "code",
      "metadata": {
        "id": "gGMWmbPcaWuo",
        "colab_type": "code",
        "colab": {}
      },
      "source": [
        "\n",
        "target_labels = k_means.predict(X)"
      ],
      "execution_count": 86,
      "outputs": []
    },
    {
      "cell_type": "code",
      "metadata": {
        "id": "xoccrgC_aWx4",
        "colab_type": "code",
        "colab": {}
      },
      "source": [
        "# Affinity Propagation"
      ],
      "execution_count": null,
      "outputs": []
    },
    {
      "cell_type": "code",
      "metadata": {
        "id": "oJlRBcJtaWzw",
        "colab_type": "code",
        "colab": {}
      },
      "source": [
        "ap = AffinityPropagation(damping = 0.5, max_iter = 250, affinity = 'euclidean')\n",
        "ap.fit(X)\n",
        "clust_labels2 = ap.predict(X)"
      ],
      "execution_count": 87,
      "outputs": []
    },
    {
      "cell_type": "code",
      "metadata": {
        "id": "AAaXkWvAaW1t",
        "colab_type": "code",
        "colab": {
          "base_uri": "https://localhost:8080/",
          "height": 34
        },
        "outputId": "b6a44909-95ee-4b74-9007-07f80a0d6511"
      },
      "source": [
        "cluster_centers_indices = ap.cluster_centers_indices_\n",
        "labels = ap.labels_\n",
        "n_clusters_ = len(cluster_centers_indices)\n",
        "print('Estimated number of clusters: %d' % n_clusters_)"
      ],
      "execution_count": 89,
      "outputs": [
        {
          "output_type": "stream",
          "text": [
            "Estimated number of clusters: 161\n"
          ],
          "name": "stdout"
        }
      ]
    },
    {
      "cell_type": "code",
      "metadata": {
        "id": "tnv8lbnYaW3t",
        "colab_type": "code",
        "colab": {}
      },
      "source": [
        "# Cluster evaluation \n"
      ],
      "execution_count": null,
      "outputs": []
    },
    {
      "cell_type": "code",
      "metadata": {
        "id": "8V12TxdRaW5m",
        "colab_type": "code",
        "colab": {
          "base_uri": "https://localhost:8080/",
          "height": 51
        },
        "outputId": "39478f2b-d921-4f21-c35a-b85f88eaebe5"
      },
      "source": [
        "from sklearn import metrics\n",
        "print(\"km\", metrics.silhouette_score(X, k_means.labels_, metric='euclidean'))\n",
        "print(\"ap\", metrics.silhouette_score(X, ap.labels_, metric='euclidean'))"
      ],
      "execution_count": 90,
      "outputs": [
        {
          "output_type": "stream",
          "text": [
            "km 0.16179048836428078\n",
            "ap 0.09736878398868973\n"
          ],
          "name": "stdout"
        }
      ]
    },
    {
      "cell_type": "code",
      "metadata": {
        "id": "Jlw3AkNpaW7Z",
        "colab_type": "code",
        "colab": {}
      },
      "source": [
        "# ----------------test purpose "
      ],
      "execution_count": null,
      "outputs": []
    },
    {
      "cell_type": "code",
      "metadata": {
        "id": "Yyw68U3aaW9g",
        "colab_type": "code",
        "colab": {
          "base_uri": "https://localhost:8080/",
          "height": 297
        },
        "outputId": "9fba6301-1402-4658-afa8-487e0de3c184"
      },
      "source": [
        "cluster_output= pd.concat([pd.DataFrame(X), pd.DataFrame(k_means.labels_, columns = ['cluster'])],axis = 1)\n",
        "output=cluster_output.groupby('cluster').mean()\n",
        "output"
      ],
      "execution_count": 91,
      "outputs": [
        {
          "output_type": "execute_result",
          "data": {
            "text/html": [
              "<div>\n",
              "<style scoped>\n",
              "    .dataframe tbody tr th:only-of-type {\n",
              "        vertical-align: middle;\n",
              "    }\n",
              "\n",
              "    .dataframe tbody tr th {\n",
              "        vertical-align: top;\n",
              "    }\n",
              "\n",
              "    .dataframe thead th {\n",
              "        text-align: right;\n",
              "    }\n",
              "</style>\n",
              "<table border=\"1\" class=\"dataframe\">\n",
              "  <thead>\n",
              "    <tr style=\"text-align: right;\">\n",
              "      <th></th>\n",
              "      <th>AGE</th>\n",
              "      <th>EDUC</th>\n",
              "      <th>MARRIED</th>\n",
              "      <th>KIDS</th>\n",
              "      <th>LIFECL</th>\n",
              "      <th>OCCAT</th>\n",
              "      <th>RISK</th>\n",
              "      <th>HHOUSES</th>\n",
              "      <th>WSAVED</th>\n",
              "      <th>SPENDMOR</th>\n",
              "      <th>NWCAT</th>\n",
              "      <th>INCCL</th>\n",
              "    </tr>\n",
              "    <tr>\n",
              "      <th>cluster</th>\n",
              "      <th></th>\n",
              "      <th></th>\n",
              "      <th></th>\n",
              "      <th></th>\n",
              "      <th></th>\n",
              "      <th></th>\n",
              "      <th></th>\n",
              "      <th></th>\n",
              "      <th></th>\n",
              "      <th></th>\n",
              "      <th></th>\n",
              "      <th></th>\n",
              "    </tr>\n",
              "  </thead>\n",
              "  <tbody>\n",
              "    <tr>\n",
              "      <th>0</th>\n",
              "      <td>1.816</td>\n",
              "      <td>2.293</td>\n",
              "      <td>1.352</td>\n",
              "      <td>2.177</td>\n",
              "      <td>3.374</td>\n",
              "      <td>1.483</td>\n",
              "      <td>3.438</td>\n",
              "      <td>0.435</td>\n",
              "      <td>2.208</td>\n",
              "      <td>3.586</td>\n",
              "      <td>1.563</td>\n",
              "      <td>2.948</td>\n",
              "    </tr>\n",
              "    <tr>\n",
              "      <th>1</th>\n",
              "      <td>4.664</td>\n",
              "      <td>3.359</td>\n",
              "      <td>1.243</td>\n",
              "      <td>0.309</td>\n",
              "      <td>5.353</td>\n",
              "      <td>2.048</td>\n",
              "      <td>2.849</td>\n",
              "      <td>0.946</td>\n",
              "      <td>2.637</td>\n",
              "      <td>4.535</td>\n",
              "      <td>4.380</td>\n",
              "      <td>4.347</td>\n",
              "    </tr>\n",
              "    <tr>\n",
              "      <th>2</th>\n",
              "      <td>2.441</td>\n",
              "      <td>3.421</td>\n",
              "      <td>1.173</td>\n",
              "      <td>1.390</td>\n",
              "      <td>2.677</td>\n",
              "      <td>1.390</td>\n",
              "      <td>2.576</td>\n",
              "      <td>0.945</td>\n",
              "      <td>2.684</td>\n",
              "      <td>4.430</td>\n",
              "      <td>3.881</td>\n",
              "      <td>4.578</td>\n",
              "    </tr>\n",
              "    <tr>\n",
              "      <th>3</th>\n",
              "      <td>4.868</td>\n",
              "      <td>2.082</td>\n",
              "      <td>1.591</td>\n",
              "      <td>0.206</td>\n",
              "      <td>5.648</td>\n",
              "      <td>2.427</td>\n",
              "      <td>3.580</td>\n",
              "      <td>0.685</td>\n",
              "      <td>2.236</td>\n",
              "      <td>3.928</td>\n",
              "      <td>2.266</td>\n",
              "      <td>2.591</td>\n",
              "    </tr>\n",
              "    <tr>\n",
              "      <th>4</th>\n",
              "      <td>1.907</td>\n",
              "      <td>2.849</td>\n",
              "      <td>1.618</td>\n",
              "      <td>0.007</td>\n",
              "      <td>1.389</td>\n",
              "      <td>1.534</td>\n",
              "      <td>3.172</td>\n",
              "      <td>0.418</td>\n",
              "      <td>2.397</td>\n",
              "      <td>3.448</td>\n",
              "      <td>1.815</td>\n",
              "      <td>3.015</td>\n",
              "    </tr>\n",
              "    <tr>\n",
              "      <th>5</th>\n",
              "      <td>2.385</td>\n",
              "      <td>3.444</td>\n",
              "      <td>1.129</td>\n",
              "      <td>1.768</td>\n",
              "      <td>2.880</td>\n",
              "      <td>1.400</td>\n",
              "      <td>2.605</td>\n",
              "      <td>0.888</td>\n",
              "      <td>2.544</td>\n",
              "      <td>1.910</td>\n",
              "      <td>3.883</td>\n",
              "      <td>4.566</td>\n",
              "    </tr>\n",
              "    <tr>\n",
              "      <th>6</th>\n",
              "      <td>4.610</td>\n",
              "      <td>3.478</td>\n",
              "      <td>1.239</td>\n",
              "      <td>0.349</td>\n",
              "      <td>5.332</td>\n",
              "      <td>2.044</td>\n",
              "      <td>2.706</td>\n",
              "      <td>0.931</td>\n",
              "      <td>2.569</td>\n",
              "      <td>2.085</td>\n",
              "      <td>4.407</td>\n",
              "      <td>4.503</td>\n",
              "    </tr>\n",
              "  </tbody>\n",
              "</table>\n",
              "</div>"
            ],
            "text/plain": [
              "           AGE   EDUC  MARRIED   KIDS  ...  WSAVED  SPENDMOR  NWCAT  INCCL\n",
              "cluster                                ...                                \n",
              "0        1.816  2.293    1.352  2.177  ...   2.208     3.586  1.563  2.948\n",
              "1        4.664  3.359    1.243  0.309  ...   2.637     4.535  4.380  4.347\n",
              "2        2.441  3.421    1.173  1.390  ...   2.684     4.430  3.881  4.578\n",
              "3        4.868  2.082    1.591  0.206  ...   2.236     3.928  2.266  2.591\n",
              "4        1.907  2.849    1.618  0.007  ...   2.397     3.448  1.815  3.015\n",
              "5        2.385  3.444    1.129  1.768  ...   2.544     1.910  3.883  4.566\n",
              "6        4.610  3.478    1.239  0.349  ...   2.569     2.085  4.407  4.503\n",
              "\n",
              "[7 rows x 12 columns]"
            ]
          },
          "metadata": {
            "tags": []
          },
          "execution_count": 91
        }
      ]
    },
    {
      "cell_type": "code",
      "metadata": {
        "id": "8dtKaZb2aWru",
        "colab_type": "code",
        "colab": {}
      },
      "source": [
        "Demographics Features"
      ],
      "execution_count": null,
      "outputs": []
    },
    {
      "cell_type": "code",
      "metadata": {
        "id": "E0Nc2wlnbRsg",
        "colab_type": "code",
        "colab": {
          "base_uri": "https://localhost:8080/",
          "height": 334
        },
        "outputId": "082c16b7-dc3f-42fa-97f8-80737475434e"
      },
      "source": [
        "output[['AGE','EDUC','MARRIED','KIDS','LIFECL','OCCAT']].plot.bar(rot=0, figsize=(18,5));"
      ],
      "execution_count": 92,
      "outputs": [
        {
          "output_type": "display_data",
          "data": {
            "image/png": "[encoded data removed]",
            "text/plain": [
              "<Figure size 1296x360 with 1 Axes>"
            ]
          },
          "metadata": {
            "tags": [],
            "needs_background": "light"
          }
        }
      ]
    },
    {
      "cell_type": "code",
      "metadata": {
        "id": "ngydDCwfbRuz",
        "colab_type": "code",
        "colab": {
          "base_uri": "https://localhost:8080/",
          "height": 334
        },
        "outputId": "ab740675-b5a9-42a5-e184-6ed1a9bee751"
      },
      "source": [
        "output[['HHOUSES','NWCAT','INCCL','WSAVED','SPENDMOR','RISK']].plot.bar(rot=0, figsize=(18,5));"
      ],
      "execution_count": 93,
      "outputs": [
        {
          "output_type": "display_data",
          "data": {
            "image/png": "[encoded data removed]",
            "text/plain": [
              "<Figure size 1296x360 with 1 Axes>"
            ]
          },
          "metadata": {
            "tags": [],
            "needs_background": "light"
          }
        }
      ]
    },
    {
      "cell_type": "code",
      "metadata": {
        "id": "ex0-VstfbRw5",
        "colab_type": "code",
        "colab": {
          "base_uri": "https://localhost:8080/",
          "height": 296
        },
        "outputId": "f3abe525-0c8c-443e-daa0-c48d62162f95"
      },
      "source": [
        "sns.heatmap(output.T)"
      ],
      "execution_count": 94,
      "outputs": [
        {
          "output_type": "execute_result",
          "data": {
            "text/plain": [
              "<matplotlib.axes._subplots.AxesSubplot at 0x7fcc9985cb00>"
            ]
          },
          "metadata": {
            "tags": []
          },
          "execution_count": 94
        },
        {
          "output_type": "display_data",
          "data": {
            "image/png": "[encoded data removed]",
            "text/plain": [
              "<Figure size 432x288 with 2 Axes>"
            ]
          },
          "metadata": {
            "tags": [],
            "needs_background": "light"
          }
        }
      ]
    },
    {
      "cell_type": "code",
      "metadata": {
        "id": "UlA3bdHrbRzA",
        "colab_type": "code",
        "colab": {}
      },
      "source": [
        ""
      ],
      "execution_count": null,
      "outputs": []
    },
    {
      "cell_type": "code",
      "metadata": {
        "id": "r4TUnaNEbR06",
        "colab_type": "code",
        "colab": {}
      },
      "source": [
        ""
      ],
      "execution_count": null,
      "outputs": []
    },
    {
      "cell_type": "code",
      "metadata": {
        "id": "t2QXgQEDaWqx",
        "colab_type": "code",
        "colab": {}
      },
      "source": [
        ""
      ],
      "execution_count": null,
      "outputs": []
    },
    {
      "cell_type": "markdown",
      "metadata": {
        "id": "MA3i8aWfYiz6",
        "colab_type": "text"
      },
      "source": [
        ""
      ]
    }
  ]
}